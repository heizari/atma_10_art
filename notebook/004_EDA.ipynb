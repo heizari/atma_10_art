{
 "cells": [
  {
   "cell_type": "markdown",
   "id": "assured-possible",
   "metadata": {},
   "source": [
    "## about train,test"
   ]
  },
  {
   "cell_type": "code",
   "execution_count": 1,
   "id": "structural-tiger",
   "metadata": {},
   "outputs": [],
   "source": [
    "import os\n",
    "import pandas as pd\n",
    "import numpy as np\n",
    "import matplotlib.pyplot as plt\n",
    "import seaborn as sns"
   ]
  },
  {
   "cell_type": "code",
   "execution_count": 2,
   "id": "spatial-adventure",
   "metadata": {},
   "outputs": [],
   "source": [
    "out_dir = '../output/'\n",
    "data = \"../datasets/\""
   ]
  },
  {
   "cell_type": "code",
   "execution_count": 3,
   "id": "motivated-provider",
   "metadata": {},
   "outputs": [],
   "source": [
    "train_df = pd.read_csv(data + \"train.csv\")\n",
    "test_df = pd.read_csv(data + \"test.csv\")"
   ]
  },
  {
   "cell_type": "code",
   "execution_count": 4,
   "id": "equal-authorization",
   "metadata": {},
   "outputs": [],
   "source": [
    "def show_ave_med(df):\n",
    "    print('num:' + str(len(df)))\n",
    "    print('mean :' + str(round(df.mean(), 2)) + '\\nmedian: ' + str(df.median()))\n"
   ]
  },
  {
   "cell_type": "code",
   "execution_count": 5,
   "id": "awful-survival",
   "metadata": {},
   "outputs": [
    {
     "data": {
      "text/html": [
       "<div>\n",
       "<style scoped>\n",
       "    .dataframe tbody tr th:only-of-type {\n",
       "        vertical-align: middle;\n",
       "    }\n",
       "\n",
       "    .dataframe tbody tr th {\n",
       "        vertical-align: top;\n",
       "    }\n",
       "\n",
       "    .dataframe thead th {\n",
       "        text-align: right;\n",
       "    }\n",
       "</style>\n",
       "<table border=\"1\" class=\"dataframe\">\n",
       "  <thead>\n",
       "    <tr style=\"text-align: right;\">\n",
       "      <th></th>\n",
       "      <th>object_id</th>\n",
       "      <th>art_series_id</th>\n",
       "      <th>title</th>\n",
       "      <th>description</th>\n",
       "      <th>long_title</th>\n",
       "      <th>principal_maker</th>\n",
       "      <th>principal_or_first_maker</th>\n",
       "      <th>sub_title</th>\n",
       "      <th>copyright_holder</th>\n",
       "      <th>more_title</th>\n",
       "      <th>acquisition_method</th>\n",
       "      <th>acquisition_date</th>\n",
       "      <th>acquisition_credit_line</th>\n",
       "      <th>dating_presenting_date</th>\n",
       "      <th>dating_sorting_date</th>\n",
       "      <th>dating_period</th>\n",
       "      <th>dating_year_early</th>\n",
       "      <th>dating_year_late</th>\n",
       "      <th>likes</th>\n",
       "    </tr>\n",
       "  </thead>\n",
       "  <tbody>\n",
       "    <tr>\n",
       "      <th>0</th>\n",
       "      <td>0011d6be41612ec9eae3</td>\n",
       "      <td>93c092ba70beab248f31</td>\n",
       "      <td>The Avenue of Birches</td>\n",
       "      <td>NaN</td>\n",
       "      <td>The Avenue of Birches, Jan Hackaert, 1660 - 1685</td>\n",
       "      <td>Jan Hackaert</td>\n",
       "      <td>Jan Hackaert</td>\n",
       "      <td>h 66.5cm × w 53.7cm × t 2.5cm × d 4.7cm</td>\n",
       "      <td>NaN</td>\n",
       "      <td>The Avenue of Birches</td>\n",
       "      <td>purchase</td>\n",
       "      <td>1808-01-01T00:00:00</td>\n",
       "      <td>NaN</td>\n",
       "      <td>1660 - 1685</td>\n",
       "      <td>1660.0</td>\n",
       "      <td>17</td>\n",
       "      <td>1660.0</td>\n",
       "      <td>1685.0</td>\n",
       "      <td>48</td>\n",
       "    </tr>\n",
       "    <tr>\n",
       "      <th>1</th>\n",
       "      <td>0012765f7a97ccc3e9e9</td>\n",
       "      <td>95c14fb11c54281ad7e0</td>\n",
       "      <td>Struik in bloei</td>\n",
       "      <td>NaN</td>\n",
       "      <td>Struik in bloei, Richard Tepe (attributed to),...</td>\n",
       "      <td>Richard Tepe</td>\n",
       "      <td>Richard Tepe</td>\n",
       "      <td>h 165mm × w 223mm</td>\n",
       "      <td>erven Richard Tepe</td>\n",
       "      <td>Struik in bloei</td>\n",
       "      <td>purchase</td>\n",
       "      <td>2000-01-01T00:00:00</td>\n",
       "      <td>NaN</td>\n",
       "      <td>c. 1900 - c. 1930</td>\n",
       "      <td>1900.0</td>\n",
       "      <td>19</td>\n",
       "      <td>1900.0</td>\n",
       "      <td>1930.0</td>\n",
       "      <td>2</td>\n",
       "    </tr>\n",
       "    <tr>\n",
       "      <th>2</th>\n",
       "      <td>0017be8caa87206532cb</td>\n",
       "      <td>4c406890d208fe01f8fb</td>\n",
       "      <td>Portret van een vrouw</td>\n",
       "      <td>Portret van eenvrouw, zittend naast een tafel.</td>\n",
       "      <td>Portret van een vrouw, Tresling &amp; Comp., 1860 ...</td>\n",
       "      <td>Tresling &amp; Comp.</td>\n",
       "      <td>Tresling &amp; Comp.</td>\n",
       "      <td>h 87mm × w 56mm</td>\n",
       "      <td>NaN</td>\n",
       "      <td>Portret van een vrouw</td>\n",
       "      <td>gift</td>\n",
       "      <td>2007-01-01T00:00:00</td>\n",
       "      <td>Gift of M.M. Boom, Leiden</td>\n",
       "      <td>1860 - 1880</td>\n",
       "      <td>1860.0</td>\n",
       "      <td>19</td>\n",
       "      <td>1860.0</td>\n",
       "      <td>1880.0</td>\n",
       "      <td>5</td>\n",
       "    </tr>\n",
       "    <tr>\n",
       "      <th>3</th>\n",
       "      <td>00181d86ff1a7b95864e</td>\n",
       "      <td>fa0891535500a4973db2</td>\n",
       "      <td>A St Bernard Dog</td>\n",
       "      <td>Een sint-bernardshond, staand in een landschap...</td>\n",
       "      <td>A St Bernard Dog, Bernard te Gempt, c. 1850 - ...</td>\n",
       "      <td>Bernard te Gempt</td>\n",
       "      <td>Bernard te Gempt</td>\n",
       "      <td>h 179cm × w 248cm × t 4cm</td>\n",
       "      <td>NaN</td>\n",
       "      <td>A St Bernard Dog</td>\n",
       "      <td>bequest</td>\n",
       "      <td>1881-01-01T00:00:00</td>\n",
       "      <td>J. Hilman Bequest, Amsterdam</td>\n",
       "      <td>c. 1850 - c. 1879</td>\n",
       "      <td>1850.0</td>\n",
       "      <td>19</td>\n",
       "      <td>1850.0</td>\n",
       "      <td>1879.0</td>\n",
       "      <td>100</td>\n",
       "    </tr>\n",
       "    <tr>\n",
       "      <th>4</th>\n",
       "      <td>001c52ae28ec106d9cd5</td>\n",
       "      <td>8065ed5063c5887e677d</td>\n",
       "      <td>Woelige zee met zeilschepen</td>\n",
       "      <td>Woelige zee met zeilschepen.</td>\n",
       "      <td>Woelige zee met zeilschepen, anonymous, 1825 -...</td>\n",
       "      <td>anonymous</td>\n",
       "      <td>anonymous</td>\n",
       "      <td>h 13cm × w 17.5cm × d 0.7cm</td>\n",
       "      <td>NaN</td>\n",
       "      <td>Woelige zee met zeilschepen</td>\n",
       "      <td>unknown</td>\n",
       "      <td>1971-01-01T00:00:00</td>\n",
       "      <td>NaN</td>\n",
       "      <td>1825 - 1874</td>\n",
       "      <td>1825.0</td>\n",
       "      <td>19</td>\n",
       "      <td>1825.0</td>\n",
       "      <td>1874.0</td>\n",
       "      <td>7</td>\n",
       "    </tr>\n",
       "  </tbody>\n",
       "</table>\n",
       "</div>"
      ],
      "text/plain": [
       "              object_id         art_series_id                        title  \\\n",
       "0  0011d6be41612ec9eae3  93c092ba70beab248f31        The Avenue of Birches   \n",
       "1  0012765f7a97ccc3e9e9  95c14fb11c54281ad7e0              Struik in bloei   \n",
       "2  0017be8caa87206532cb  4c406890d208fe01f8fb        Portret van een vrouw   \n",
       "3  00181d86ff1a7b95864e  fa0891535500a4973db2             A St Bernard Dog   \n",
       "4  001c52ae28ec106d9cd5  8065ed5063c5887e677d  Woelige zee met zeilschepen   \n",
       "\n",
       "                                         description  \\\n",
       "0                                                NaN   \n",
       "1                                                NaN   \n",
       "2     Portret van eenvrouw, zittend naast een tafel.   \n",
       "3  Een sint-bernardshond, staand in een landschap...   \n",
       "4                       Woelige zee met zeilschepen.   \n",
       "\n",
       "                                          long_title   principal_maker  \\\n",
       "0   The Avenue of Birches, Jan Hackaert, 1660 - 1685      Jan Hackaert   \n",
       "1  Struik in bloei, Richard Tepe (attributed to),...      Richard Tepe   \n",
       "2  Portret van een vrouw, Tresling & Comp., 1860 ...  Tresling & Comp.   \n",
       "3  A St Bernard Dog, Bernard te Gempt, c. 1850 - ...  Bernard te Gempt   \n",
       "4  Woelige zee met zeilschepen, anonymous, 1825 -...         anonymous   \n",
       "\n",
       "  principal_or_first_maker                                sub_title  \\\n",
       "0             Jan Hackaert  h 66.5cm × w 53.7cm × t 2.5cm × d 4.7cm   \n",
       "1             Richard Tepe                        h 165mm × w 223mm   \n",
       "2         Tresling & Comp.                          h 87mm × w 56mm   \n",
       "3         Bernard te Gempt                h 179cm × w 248cm × t 4cm   \n",
       "4                anonymous              h 13cm × w 17.5cm × d 0.7cm   \n",
       "\n",
       "     copyright_holder                   more_title acquisition_method  \\\n",
       "0                 NaN        The Avenue of Birches           purchase   \n",
       "1  erven Richard Tepe              Struik in bloei           purchase   \n",
       "2                 NaN        Portret van een vrouw               gift   \n",
       "3                 NaN             A St Bernard Dog            bequest   \n",
       "4                 NaN  Woelige zee met zeilschepen            unknown   \n",
       "\n",
       "      acquisition_date       acquisition_credit_line dating_presenting_date  \\\n",
       "0  1808-01-01T00:00:00                           NaN            1660 - 1685   \n",
       "1  2000-01-01T00:00:00                           NaN      c. 1900 - c. 1930   \n",
       "2  2007-01-01T00:00:00     Gift of M.M. Boom, Leiden            1860 - 1880   \n",
       "3  1881-01-01T00:00:00  J. Hilman Bequest, Amsterdam      c. 1850 - c. 1879   \n",
       "4  1971-01-01T00:00:00                           NaN            1825 - 1874   \n",
       "\n",
       "   dating_sorting_date  dating_period  dating_year_early  dating_year_late  \\\n",
       "0               1660.0             17             1660.0            1685.0   \n",
       "1               1900.0             19             1900.0            1930.0   \n",
       "2               1860.0             19             1860.0            1880.0   \n",
       "3               1850.0             19             1850.0            1879.0   \n",
       "4               1825.0             19             1825.0            1874.0   \n",
       "\n",
       "   likes  \n",
       "0     48  \n",
       "1      2  \n",
       "2      5  \n",
       "3    100  \n",
       "4      7  "
      ]
     },
     "execution_count": 5,
     "metadata": {},
     "output_type": "execute_result"
    }
   ],
   "source": [
    "train_df.head()"
   ]
  },
  {
   "cell_type": "code",
   "execution_count": 6,
   "id": "blessed-lesson",
   "metadata": {},
   "outputs": [
    {
     "name": "stdout",
     "output_type": "stream",
     "text": [
      "<class 'pandas.core.frame.DataFrame'>\n",
      "RangeIndex: 12026 entries, 0 to 12025\n",
      "Data columns (total 19 columns):\n",
      " #   Column                    Non-Null Count  Dtype  \n",
      "---  ------                    --------------  -----  \n",
      " 0   object_id                 12026 non-null  object \n",
      " 1   art_series_id             12026 non-null  object \n",
      " 2   title                     12026 non-null  object \n",
      " 3   description               8506 non-null   object \n",
      " 4   long_title                12026 non-null  object \n",
      " 5   principal_maker           12026 non-null  object \n",
      " 6   principal_or_first_maker  12025 non-null  object \n",
      " 7   sub_title                 11992 non-null  object \n",
      " 8   copyright_holder          713 non-null    object \n",
      " 9   more_title                11891 non-null  object \n",
      " 10  acquisition_method        11830 non-null  object \n",
      " 11  acquisition_date          11009 non-null  object \n",
      " 12  acquisition_credit_line   3525 non-null   object \n",
      " 13  dating_presenting_date    12016 non-null  object \n",
      " 14  dating_sorting_date       12016 non-null  float64\n",
      " 15  dating_period             12026 non-null  int64  \n",
      " 16  dating_year_early         12016 non-null  float64\n",
      " 17  dating_year_late          11988 non-null  float64\n",
      " 18  likes                     12026 non-null  int64  \n",
      "dtypes: float64(3), int64(2), object(14)\n",
      "memory usage: 1.7+ MB\n"
     ]
    }
   ],
   "source": [
    "train_df.info()"
   ]
  },
  {
   "cell_type": "code",
   "execution_count": 8,
   "id": "legendary-interview",
   "metadata": {},
   "outputs": [],
   "source": [
    "import re"
   ]
  },
  {
   "cell_type": "code",
   "execution_count": 9,
   "id": "little-trailer",
   "metadata": {},
   "outputs": [
    {
     "data": {
      "text/plain": [
       "array([  289,  2890,  3134,  3387,  3589,  3664,  4622,  8100, 11023,\n",
       "       11764])"
      ]
     },
     "execution_count": 9,
     "metadata": {},
     "output_type": "execute_result"
    }
   ],
   "source": [
    "train_df['more_title'][train_df['dating_presenting_date'].isnull()].index.values"
   ]
  },
  {
   "cell_type": "code",
   "execution_count": 10,
   "id": "fewer-unemployment",
   "metadata": {},
   "outputs": [],
   "source": [
    "title_idx = train_df['more_title'][train_df['dating_presenting_date'].isnull()].index.values"
   ]
  },
  {
   "cell_type": "code",
   "execution_count": 11,
   "id": "hawaiian-nancy",
   "metadata": {},
   "outputs": [
    {
     "name": "stdout",
     "output_type": "stream",
     "text": [
      "<class 'pandas.core.frame.DataFrame'>\n",
      "RangeIndex: 12008 entries, 0 to 12007\n",
      "Data columns (total 18 columns):\n",
      " #   Column                    Non-Null Count  Dtype  \n",
      "---  ------                    --------------  -----  \n",
      " 0   object_id                 12008 non-null  object \n",
      " 1   art_series_id             12008 non-null  object \n",
      " 2   title                     12008 non-null  object \n",
      " 3   description               8323 non-null   object \n",
      " 4   long_title                12008 non-null  object \n",
      " 5   principal_maker           12008 non-null  object \n",
      " 6   principal_or_first_maker  12008 non-null  object \n",
      " 7   sub_title                 11978 non-null  object \n",
      " 8   copyright_holder          721 non-null    object \n",
      " 9   more_title                11844 non-null  object \n",
      " 10  acquisition_method        11833 non-null  object \n",
      " 11  acquisition_date          11010 non-null  object \n",
      " 12  acquisition_credit_line   3538 non-null   object \n",
      " 13  dating_presenting_date    12000 non-null  object \n",
      " 14  dating_sorting_date       12000 non-null  float64\n",
      " 15  dating_period             12008 non-null  int64  \n",
      " 16  dating_year_early         12000 non-null  float64\n",
      " 17  dating_year_late          11977 non-null  float64\n",
      "dtypes: float64(3), int64(1), object(14)\n",
      "memory usage: 1.6+ MB\n"
     ]
    }
   ],
   "source": [
    "test_df.info()"
   ]
  },
  {
   "cell_type": "code",
   "execution_count": 56,
   "id": "adaptive-massage",
   "metadata": {},
   "outputs": [],
   "source": [
    "train_df[train_df['sub_title'].isnull()] = '0'"
   ]
  },
  {
   "cell_type": "code",
   "execution_count": 57,
   "id": "impossible-carroll",
   "metadata": {},
   "outputs": [
    {
     "data": {
      "text/plain": [
       "0        h 66.5cm × w 53.7cm × t 2.5cm × d 4.7cm\n",
       "1                              h 165mm × w 223mm\n",
       "2                                h 87mm × w 56mm\n",
       "3                      h 179cm × w 248cm × t 4cm\n",
       "4                    h 13cm × w 17.5cm × d 0.7cm\n",
       "                          ...                   \n",
       "12021                           h 90mm × w 140mm\n",
       "12022                          h 245mm × w 278mm\n",
       "12023                          h 217mm × w 306mm\n",
       "12024                          h 560mm × w 405mm\n",
       "12025               h 50.5cm × w 43.5cm × d 14cm\n",
       "Name: sub_title, Length: 12026, dtype: object"
      ]
     },
     "execution_count": 57,
     "metadata": {},
     "output_type": "execute_result"
    }
   ],
   "source": [
    "train_df['sub_title']"
   ]
  },
  {
   "cell_type": "code",
   "execution_count": 74,
   "id": "unable-password",
   "metadata": {},
   "outputs": [
    {
     "data": {
      "text/plain": [
       "0        3\n",
       "1        1\n",
       "2        1\n",
       "3        2\n",
       "4        2\n",
       "        ..\n",
       "12021    1\n",
       "12022    1\n",
       "12023    1\n",
       "12024    1\n",
       "12025    2\n",
       "Name: sub_title, Length: 12026, dtype: int64"
      ]
     },
     "execution_count": 74,
     "metadata": {},
     "output_type": "execute_result"
    }
   ],
   "source": [
    "train_df['dim'] = ''\n",
    "# for i in range(len(train_df)):\n",
    "train_df['sub_title'].str.count('(×)')\n",
    "    "
   ]
  },
  {
   "cell_type": "code",
   "execution_count": 70,
   "id": "diverse-banana",
   "metadata": {},
   "outputs": [
    {
     "data": {
      "text/plain": [
       "       match\n",
       "0      0        ×\n",
       "       1        ×\n",
       "       2        ×\n",
       "1      0        ×\n",
       "2      0        ×\n",
       "               ..\n",
       "12022  0        ×\n",
       "12023  0        ×\n",
       "12024  0        ×\n",
       "12025  0        ×\n",
       "       1        ×\n",
       "Name: 0, Length: 13474, dtype: object"
      ]
     },
     "execution_count": 70,
     "metadata": {},
     "output_type": "execute_result"
    }
   ],
   "source": [
    "a[0]"
   ]
  },
  {
   "cell_type": "code",
   "execution_count": 14,
   "id": "sustainable-consultation",
   "metadata": {},
   "outputs": [
    {
     "data": {
      "text/plain": [
       "170       16\n",
       "443       11\n",
       "450      550\n",
       "492        0\n",
       "651        0\n",
       "        ... \n",
       "11626      0\n",
       "11700      0\n",
       "11795      0\n",
       "11974     11\n",
       "12016     49\n",
       "Name: likes, Length: 69, dtype: object"
      ]
     },
     "execution_count": 14,
     "metadata": {},
     "output_type": "execute_result"
    }
   ],
   "source": [
    "train_df['likes'][train_df['dim'] == 1]"
   ]
  },
  {
   "cell_type": "code",
   "execution_count": 15,
   "id": "original-impact",
   "metadata": {},
   "outputs": [
    {
     "name": "stdout",
     "output_type": "stream",
     "text": [
      "num:10715\n",
      "mean :53.67\n",
      "median: 2.0\n"
     ]
    }
   ],
   "source": [
    "show_ave_med(train_df['likes'][train_df['dim'] == 2])"
   ]
  },
  {
   "cell_type": "code",
   "execution_count": 18,
   "id": "joined-title",
   "metadata": {},
   "outputs": [],
   "source": [
    "idx = (train_df['likes'][train_df.duplicated(subset='art_series_id',keep=False)].index.values)"
   ]
  },
  {
   "cell_type": "code",
   "execution_count": 25,
   "id": "ethical-booth",
   "metadata": {},
   "outputs": [],
   "source": [
    "train_df = train_df.astype({'likes':int})"
   ]
  },
  {
   "cell_type": "code",
   "execution_count": 26,
   "id": "residential-international",
   "metadata": {},
   "outputs": [
    {
     "data": {
      "text/plain": [
       "numpy.int64"
      ]
     },
     "execution_count": 26,
     "metadata": {},
     "output_type": "execute_result"
    }
   ],
   "source": [
    "type(train_df['likes'][0])"
   ]
  },
  {
   "cell_type": "code",
   "execution_count": 29,
   "id": "described-library",
   "metadata": {},
   "outputs": [],
   "source": [
    "\n",
    "for i in idx:\n",
    "    if type(train_df['likes'][i] ) == str:\n",
    "        print(i)\n",
    "        print(train_df['likes'][i])\n",
    "        print(type(train_df['likes'][i]))\n"
   ]
  },
  {
   "cell_type": "code",
   "execution_count": 36,
   "id": "outer-raising",
   "metadata": {},
   "outputs": [
    {
     "name": "stdout",
     "output_type": "stream",
     "text": [
      "<class 'pandas.core.frame.DataFrame'>\n",
      "RangeIndex: 12026 entries, 0 to 12025\n",
      "Data columns (total 20 columns):\n",
      " #   Column                    Non-Null Count  Dtype \n",
      "---  ------                    --------------  ----- \n",
      " 0   object_id                 12026 non-null  object\n",
      " 1   art_series_id             12026 non-null  object\n",
      " 2   title                     12026 non-null  object\n",
      " 3   description               12026 non-null  object\n",
      " 4   long_title                12026 non-null  object\n",
      " 5   principal_maker           12026 non-null  object\n",
      " 6   principal_or_first_maker  12025 non-null  object\n",
      " 7   sub_title                 12026 non-null  object\n",
      " 8   copyright_holder          746 non-null    object\n",
      " 9   more_title                11892 non-null  object\n",
      " 10  acquisition_method        11831 non-null  object\n",
      " 11  acquisition_date          11010 non-null  object\n",
      " 12  acquisition_credit_line   3558 non-null   object\n",
      " 13  dating_presenting_date    12016 non-null  object\n",
      " 14  dating_sorting_date       12016 non-null  object\n",
      " 15  dating_period             12026 non-null  object\n",
      " 16  dating_year_early         12016 non-null  object\n",
      " 17  dating_year_late          11988 non-null  object\n",
      " 18  likes                     12026 non-null  int64 \n",
      " 19  dim                       12026 non-null  object\n",
      "dtypes: int64(1), object(19)\n",
      "memory usage: 1.8+ MB\n"
     ]
    }
   ],
   "source": [
    "train_df.info()"
   ]
  },
  {
   "cell_type": "code",
   "execution_count": 17,
   "id": "intense-cream",
   "metadata": {},
   "outputs": [
    {
     "name": "stdout",
     "output_type": "stream",
     "text": [
      "num:3489\n",
      "mean :10.31\n",
      "median: 0.0\n"
     ]
    }
   ],
   "source": [
    "show_ave_med(train_df['likes'][train_df['description'].isnull()])"
   ]
  },
  {
   "cell_type": "code",
   "execution_count": 48,
   "id": "blessed-diagnosis",
   "metadata": {},
   "outputs": [
    {
     "data": {
      "text/plain": [
       "0        True\n",
       "1        True\n",
       "2        True\n",
       "3        True\n",
       "4        True\n",
       "         ... \n",
       "12021    True\n",
       "12022    True\n",
       "12023    True\n",
       "12024    True\n",
       "12025    True\n",
       "Name: description, Length: 12026, dtype: bool"
      ]
     },
     "execution_count": 48,
     "metadata": {},
     "output_type": "execute_result"
    }
   ],
   "source": [
    "~train_df['description'].isnull()"
   ]
  },
  {
   "cell_type": "code",
   "execution_count": 40,
   "id": "civilian-kernel",
   "metadata": {},
   "outputs": [],
   "source": [
    "train_df['description'] = train_df['description'].str.len()"
   ]
  },
  {
   "cell_type": "code",
   "execution_count": 41,
   "id": "inside-district",
   "metadata": {},
   "outputs": [
    {
     "data": {
      "text/plain": [
       "0          0\n",
       "1          0\n",
       "2         46\n",
       "3         71\n",
       "4         28\n",
       "        ... \n",
       "12021      0\n",
       "12022    231\n",
       "12023    101\n",
       "12024    495\n",
       "12025    229\n",
       "Name: description, Length: 12026, dtype: int64"
      ]
     },
     "execution_count": 41,
     "metadata": {},
     "output_type": "execute_result"
    }
   ],
   "source": [
    "train_df['description']"
   ]
  },
  {
   "cell_type": "code",
   "execution_count": 46,
   "id": "unnecessary-stockholm",
   "metadata": {},
   "outputs": [
    {
     "data": {
      "text/plain": [
       "False"
      ]
     },
     "execution_count": 46,
     "metadata": {},
     "output_type": "execute_result"
    }
   ],
   "source": [
    "bool('')"
   ]
  }
 ],
 "metadata": {
  "kernelspec": {
   "display_name": "pyvenv",
   "language": "python",
   "name": "pyvenv"
  },
  "language_info": {
   "codemirror_mode": {
    "name": "ipython",
    "version": 3
   },
   "file_extension": ".py",
   "mimetype": "text/x-python",
   "name": "python",
   "nbconvert_exporter": "python",
   "pygments_lexer": "ipython3",
   "version": "3.8.5"
  }
 },
 "nbformat": 4,
 "nbformat_minor": 5
}
