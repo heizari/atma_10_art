{
 "cells": [
  {
   "cell_type": "markdown",
   "id": "polished-facility",
   "metadata": {},
   "source": [
    "## about low like"
   ]
  },
  {
   "cell_type": "code",
   "execution_count": 1,
   "id": "dental-accessory",
   "metadata": {},
   "outputs": [],
   "source": [
    "import os\n",
    "import pandas as pd\n",
    "import numpy as np\n",
    "import matplotlib.pyplot as plt\n",
    "import seaborn as sns"
   ]
  },
  {
   "cell_type": "code",
   "execution_count": 2,
   "id": "exceptional-raleigh",
   "metadata": {},
   "outputs": [],
   "source": [
    "out_dir = '../output/'\n",
    "data = \"../datasets/\""
   ]
  },
  {
   "cell_type": "code",
   "execution_count": 3,
   "id": "dangerous-spice",
   "metadata": {},
   "outputs": [],
   "source": [
    "train_df = pd.read_csv(data + \"train.csv\")\n",
    "test_df = pd.read_csv(data + \"test.csv\")"
   ]
  },
  {
   "cell_type": "code",
   "execution_count": 4,
   "id": "treated-harbor",
   "metadata": {},
   "outputs": [],
   "source": [
    "def show_ave_med(df, do_sort=False):\n",
    "    if (do_sort):\n",
    "        print('num:' + str(df.size()))\n",
    "        print('mean :' + str(round(df.mean().sort_values('likes',ascending=False)['likes'], 2)) + '\\nmedian: ' + str(df.median().sort_values('likes',ascending=False)['likes']))# + '\\nmax: ' + str(df.max().sort_values('likes',ascending=False)['likes']) + '\\nmin:' + str(df.min().sort_values('likes',ascending=False)['likes']))\n",
    "    else:\n",
    "        print('num:' + str(len(df)))\n",
    "        print('mean :' + str(round(df.mean(), 2)) + '\\nmedian: ' + str(df.median()) + '\\nmax: ' + str(df.max()) + '\\nmin:' + str(df.min()))\n"
   ]
  },
  {
   "cell_type": "code",
   "execution_count": null,
   "id": "alpine-istanbul",
   "metadata": {},
   "outputs": [],
   "source": []
  }
 ],
 "metadata": {
  "kernelspec": {
   "display_name": "pyvenv",
   "language": "python",
   "name": "pyvenv"
  },
  "language_info": {
   "codemirror_mode": {
    "name": "ipython",
    "version": 3
   },
   "file_extension": ".py",
   "mimetype": "text/x-python",
   "name": "python",
   "nbconvert_exporter": "python",
   "pygments_lexer": "ipython3",
   "version": "3.8.5"
  }
 },
 "nbformat": 4,
 "nbformat_minor": 5
}
