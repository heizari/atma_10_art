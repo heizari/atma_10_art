{
 "cells": [
  {
   "cell_type": "markdown",
   "metadata": {},
   "source": [
    "## consider dim"
   ]
  },
  {
   "cell_type": "code",
   "execution_count": 1,
   "metadata": {},
   "outputs": [],
   "source": [
    "# ==================\n",
    "# library\n",
    "# ==================\n",
    "import pandas as pd\n",
    "import numpy as np\n",
    "import matplotlib.pyplot as plt\n",
    "import random\n",
    "import os\n",
    "from tqdm import tqdm_notebook as tqdm\n",
    "from sklearn.preprocessing import LabelEncoder\n",
    "from sklearn.model_selection import KFold\n",
    "from sklearn.metrics import mean_squared_error\n",
    "import lightgbm as lgb\n",
    "%matplotlib inline\n",
    "pd.set_option('display.max_columns', 300)"
   ]
  },
  {
   "cell_type": "code",
   "execution_count": 2,
   "metadata": {},
   "outputs": [],
   "source": [
    "data = '../datasets/'\n",
    "out_dir = '../output/'\n",
    "TRAIN_PATH = data+\"train.csv\"\n",
    "TEST_PATH = data+ 'test.csv'\n",
    "SUB_PATH = data + 'atmacup10__sample_submission.csv'\n",
    "SAVE_TEST_SUB_PATH = out_dir + \"sub.csv\""
   ]
  },
  {
   "cell_type": "code",
   "execution_count": 3,
   "metadata": {},
   "outputs": [],
   "source": [
    "# ===============\n",
    "# Settings\n",
    "# ===============\n",
    "\n",
    "SEED = 0\n",
    "N_SPLITS = 5\n",
    "SHUFFLE = True\n",
    "LGBM_PARAMS = {'num_leaves': 32,\n",
    "               'min_data_in_leaf': 64,\n",
    "               'objective': 'regression',\n",
    "               'max_depth': -1,\n",
    "               'learning_rate': 0.05,\n",
    "               \"boosting\": \"gbdt\",\n",
    "               \"bagging_freq\": 1,\n",
    "               \"bagging_fraction\": 0.8,\n",
    "               \"bagging_seed\": SEED,\n",
    "               \"verbosity\": -1,\n",
    "              'reg_alpha': 0.1,\n",
    "              'reg_lambda': 0.3,\n",
    "              'colsample_bytree': 0.7,\n",
    "              'metric':\"rmse\",\n",
    "              'num_threads':6,\n",
    "         }\n",
    "\n",
    "LGBM_FIT_PARAMS = {\n",
    "    'num_boost_round': 10000,\n",
    "    'early_stopping_rounds': 200,\n",
    "    'verbose_eval': 200,\n",
    "}\n",
    "\n"
   ]
  },
  {
   "cell_type": "code",
   "execution_count": null,
   "metadata": {},
   "outputs": [],
   "source": []
  },
  {
   "cell_type": "code",
   "execution_count": 4,
   "metadata": {},
   "outputs": [],
   "source": [
    "# =====================\n",
    "# Function\n",
    "# =====================\n",
    "def train_lgbm(X_train, y_train, X_valid, y_valid, X_test, categorical_features, feature_name, fold_id,lgb_params, fit_params, loss_func, calc_importances=True):\n",
    "    \n",
    "    train_df = lgb.Dataset(X_train, y_train,\n",
    "                        categorical_feature=categorical_features,\n",
    "                        feature_name=feature_name)\n",
    "    if X_valid is not None:\n",
    "        valid = lgb.Dataset(X_valid, y_valid,\n",
    "                            categorical_feature=categorical_features,\n",
    "                            feature_name=feature_name)\n",
    "   \n",
    "    if X_valid is not None:\n",
    "        model = lgb.train(\n",
    "            lgb_params,\n",
    "            train_df,\n",
    "            valid_sets=[train_df,valid],\n",
    "            **fit_params\n",
    "        )\n",
    "    else:\n",
    "        model = lgb.train(\n",
    "            lgb_params,\n",
    "            train_df,\n",
    "            **fit_params\n",
    "        )\n",
    "    \n",
    "    # train score\n",
    "    if X_valid is not None:\n",
    "        y_pred_valid = model.predict(X_valid)\n",
    "        valid_loss = loss_func(y_valid, y_pred_valid)\n",
    "    else:\n",
    "        y_pred_valid = None\n",
    "        valid_loss = None\n",
    "    \n",
    "    #test\n",
    "    if X_test is not None:\n",
    "        y_pred_test = model.predict(X_test)\n",
    "    else:\n",
    "        y_pred_test = None\n",
    "\n",
    "    if calc_importances:\n",
    "        importances = pd.DataFrame()\n",
    "        importances['feature'] = feature_name\n",
    "        importances['gain'] = model.feature_importance(importance_type='gain')\n",
    "        importances['split'] = model.feature_importance(importance_type='split')\n",
    "        importances['fold'] = fold_id\n",
    "    else:\n",
    "        importances = None\n",
    "\n",
    "    return y_pred_valid, y_pred_test, valid_loss, importances, model.best_iteration\n",
    "\n",
    "def calc_loss(y_true, y_pred):\n",
    "    return  np.sqrt(mean_squared_error(y_true, y_pred))\n",
    "def get_dim(df):\n",
    "    df['dim'] = ''\n",
    "#     df[df['sub_title'].isnull()] = '0'\n",
    "    df['dim'] = df['sub_title'].str.count('×')\n",
    "#     for i in range(len(df)):\n",
    "#         df['dim'][i] = df['sub_title'][i].count('×')+1\n",
    "#     df['dim'] = df['dim'].astype(int)\n",
    "    return df\n",
    "def get_collection(df, collections):\n",
    "    obj_collection_df = pd.read_csv('../datasets/object_collection.csv')\n",
    "    df ['has_collection'] = df['object_id'].isin(obj_collection_df['object_id'])*1\n",
    "    for collect in collections:\n",
    "        print(collect)\n",
    "        df['has_'+collect] = ''\n",
    "        df['has_'+collect] = df['object_id'].isin(obj_collection_df['object_id'][obj_collection_df['name'] == collect])*1\n",
    "    return df\n",
    "def has_description(df):\n",
    "    df['has_description'] = ''\n",
    "    df['has_description'] = ~df['description'].isnull()*1\n",
    "    return df\n",
    "def concat_material(df):\n",
    "    material = pd.read_csv('../datasets/material.csv')\n",
    "    cross_material = pd.crosstab(material['object_id'], material['name'])\n",
    "    df = df.merge(cross_material, on = 'object_id',how='left' )\n",
    "    return df, cross_material.columns"
   ]
  },
  {
   "cell_type": "code",
   "execution_count": 5,
   "metadata": {},
   "outputs": [],
   "source": [
    "train_df = pd.read_csv(TRAIN_PATH)\n",
    "test_df = pd.read_csv(TEST_PATH)\n",
    "len_train = len(train_df)\n",
    "y = np.log1p(train_df[\"likes\"])"
   ]
  },
  {
   "cell_type": "code",
   "execution_count": 6,
   "metadata": {},
   "outputs": [
    {
     "name": "stdout",
     "output_type": "stream",
     "text": [
      "paintings\n",
      "prints\n",
      "paintings\n",
      "prints\n"
     ]
    }
   ],
   "source": [
    "collections = ['paintings','prints']\n",
    "train_df = get_collection(train_df,collections)\n",
    "test_df = get_collection(test_df,collections)"
   ]
  },
  {
   "cell_type": "code",
   "execution_count": 7,
   "metadata": {},
   "outputs": [],
   "source": [
    "train_df = get_dim(train_df)\n",
    "test_df = get_dim(test_df)"
   ]
  },
  {
   "cell_type": "code",
   "execution_count": 8,
   "metadata": {},
   "outputs": [],
   "source": [
    "train_df = has_description(train_df)\n",
    "test_df = has_description(test_df)"
   ]
  },
  {
   "cell_type": "code",
   "execution_count": 9,
   "metadata": {},
   "outputs": [],
   "source": [
    "train_df,_= concat_material(train_df)\n",
    "test_df, material_col = concat_material(test_df)"
   ]
  },
  {
   "cell_type": "code",
   "execution_count": 10,
   "metadata": {},
   "outputs": [
    {
     "name": "stdout",
     "output_type": "stream",
     "text": [
      "<class 'pandas.core.frame.DataFrame'>\n",
      "Int64Index: 12026 entries, 0 to 12025\n",
      "Columns: 101 entries, object_id to wood board\n",
      "dtypes: float64(81), int64(6), object(14)\n",
      "memory usage: 9.4+ MB\n"
     ]
    }
   ],
   "source": [
    "train_df.info()"
   ]
  },
  {
   "cell_type": "code",
   "execution_count": 11,
   "metadata": {},
   "outputs": [],
   "source": [
    "cols = ['principal_maker', 'principal_or_first_maker',\n",
    "        'copyright_holder','acquisition_method',\n",
    "       'acquisition_credit_line', \n",
    "       'dating_period', 'dating_year_early',\n",
    "       'dating_year_late','has_prints',\n",
    "        'has_paintings',\n",
    "        'has_collection',\n",
    "        'dim',\n",
    "        'has_description',\n",
    "       ]\n",
    "cols.extend(material_col)\n",
    "cat_cols = ['principal_maker', 'principal_or_first_maker','copyright_holder','acquisition_method','acquisition_credit_line','dim',]\n",
    "cat_cols.extend(material_col)"
   ]
  },
  {
   "cell_type": "code",
   "execution_count": 12,
   "metadata": {},
   "outputs": [],
   "source": [
    "for c in cat_cols:\n",
    "    train_df.loc[~train_df[c].isin(test_df[c].unique()),c] = np.nan\n",
    "    test_df.loc[~test_df[c].isin(train_df[c].unique()),c] = np.nan\n",
    "train_df = pd.concat([train_df[cols],test_df[cols]]).reset_index(drop=True)"
   ]
  },
  {
   "cell_type": "code",
   "execution_count": 13,
   "metadata": {},
   "outputs": [],
   "source": [
    "for c in cat_cols:\n",
    "    train_df[c] = train_df[c].astype(str)\n",
    "    le = LabelEncoder()\n",
    "    train_df[c] = le.fit_transform(train_df[c])"
   ]
  },
  {
   "cell_type": "code",
   "execution_count": 14,
   "metadata": {},
   "outputs": [],
   "source": [
    "test_df = train_df.iloc[len_train:].reset_index(drop=True)\n",
    "train_df = train_df.iloc[:len_train].reset_index(drop=True)"
   ]
  },
  {
   "cell_type": "code",
   "execution_count": 15,
   "metadata": {},
   "outputs": [
    {
     "data": {
      "text/plain": [
       "8506"
      ]
     },
     "execution_count": 15,
     "metadata": {},
     "output_type": "execute_result"
    }
   ],
   "source": [
    "train_df['has_description'].sum()"
   ]
  },
  {
   "cell_type": "code",
   "execution_count": 16,
   "metadata": {
    "scrolled": true,
    "tags": []
   },
   "outputs": [
    {
     "name": "stdout",
     "output_type": "stream",
     "text": [
      "Fold 1\n",
      "Training until validation scores don't improve for 200 rounds\n"
     ]
    },
    {
     "name": "stderr",
     "output_type": "stream",
     "text": [
      "/home/wsato/work/pyvenv/lib/python3.8/site-packages/lightgbm/basic.py:1551: UserWarning: Using categorical_feature in Dataset.\n",
      "  warnings.warn('Using categorical_feature in Dataset.')\n",
      "/home/wsato/work/pyvenv/lib/python3.8/site-packages/lightgbm/basic.py:1286: UserWarning: Overriding the parameters from Reference Dataset.\n",
      "  warnings.warn('Overriding the parameters from Reference Dataset.')\n",
      "/home/wsato/work/pyvenv/lib/python3.8/site-packages/lightgbm/basic.py:1098: UserWarning: categorical_column in param dict is overridden.\n",
      "  warnings.warn('{} in param dict is overridden.'.format(cat_alias))\n"
     ]
    },
    {
     "name": "stdout",
     "output_type": "stream",
     "text": [
      "[200]\ttraining's rmse: 1.0023\tvalid_1's rmse: 1.09657\n",
      "[400]\ttraining's rmse: 0.958284\tvalid_1's rmse: 1.09625\n",
      "Early stopping, best iteration is:\n",
      "[277]\ttraining's rmse: 0.982841\tvalid_1's rmse: 1.09469\n",
      "Fold 2\n",
      "Training until validation scores don't improve for 200 rounds\n"
     ]
    },
    {
     "name": "stderr",
     "output_type": "stream",
     "text": [
      "/home/wsato/work/pyvenv/lib/python3.8/site-packages/lightgbm/basic.py:1551: UserWarning: Using categorical_feature in Dataset.\n",
      "  warnings.warn('Using categorical_feature in Dataset.')\n",
      "/home/wsato/work/pyvenv/lib/python3.8/site-packages/lightgbm/basic.py:1286: UserWarning: Overriding the parameters from Reference Dataset.\n",
      "  warnings.warn('Overriding the parameters from Reference Dataset.')\n",
      "/home/wsato/work/pyvenv/lib/python3.8/site-packages/lightgbm/basic.py:1098: UserWarning: categorical_column in param dict is overridden.\n",
      "  warnings.warn('{} in param dict is overridden.'.format(cat_alias))\n"
     ]
    },
    {
     "name": "stdout",
     "output_type": "stream",
     "text": [
      "[200]\ttraining's rmse: 1.01154\tvalid_1's rmse: 1.07244\n",
      "[400]\ttraining's rmse: 0.96632\tvalid_1's rmse: 1.06845\n",
      "[600]\ttraining's rmse: 0.936022\tvalid_1's rmse: 1.06587\n",
      "[800]\ttraining's rmse: 0.912227\tvalid_1's rmse: 1.06816\n",
      "Early stopping, best iteration is:\n",
      "[606]\ttraining's rmse: 0.935067\tvalid_1's rmse: 1.0656\n",
      "Fold 3\n",
      "Training until validation scores don't improve for 200 rounds\n"
     ]
    },
    {
     "name": "stderr",
     "output_type": "stream",
     "text": [
      "/home/wsato/work/pyvenv/lib/python3.8/site-packages/lightgbm/basic.py:1551: UserWarning: Using categorical_feature in Dataset.\n",
      "  warnings.warn('Using categorical_feature in Dataset.')\n",
      "/home/wsato/work/pyvenv/lib/python3.8/site-packages/lightgbm/basic.py:1286: UserWarning: Overriding the parameters from Reference Dataset.\n",
      "  warnings.warn('Overriding the parameters from Reference Dataset.')\n",
      "/home/wsato/work/pyvenv/lib/python3.8/site-packages/lightgbm/basic.py:1098: UserWarning: categorical_column in param dict is overridden.\n",
      "  warnings.warn('{} in param dict is overridden.'.format(cat_alias))\n"
     ]
    },
    {
     "name": "stdout",
     "output_type": "stream",
     "text": [
      "[200]\ttraining's rmse: 0.997932\tvalid_1's rmse: 1.12393\n",
      "[400]\ttraining's rmse: 0.953558\tvalid_1's rmse: 1.1195\n",
      "[600]\ttraining's rmse: 0.923603\tvalid_1's rmse: 1.11754\n",
      "[800]\ttraining's rmse: 0.900119\tvalid_1's rmse: 1.11981\n",
      "Early stopping, best iteration is:\n",
      "[606]\ttraining's rmse: 0.922748\tvalid_1's rmse: 1.11725\n",
      "Fold 4\n"
     ]
    },
    {
     "name": "stderr",
     "output_type": "stream",
     "text": [
      "/home/wsato/work/pyvenv/lib/python3.8/site-packages/lightgbm/basic.py:1551: UserWarning: Using categorical_feature in Dataset.\n",
      "  warnings.warn('Using categorical_feature in Dataset.')\n",
      "/home/wsato/work/pyvenv/lib/python3.8/site-packages/lightgbm/basic.py:1286: UserWarning: Overriding the parameters from Reference Dataset.\n",
      "  warnings.warn('Overriding the parameters from Reference Dataset.')\n",
      "/home/wsato/work/pyvenv/lib/python3.8/site-packages/lightgbm/basic.py:1098: UserWarning: categorical_column in param dict is overridden.\n",
      "  warnings.warn('{} in param dict is overridden.'.format(cat_alias))\n"
     ]
    },
    {
     "name": "stdout",
     "output_type": "stream",
     "text": [
      "Training until validation scores don't improve for 200 rounds\n",
      "[200]\ttraining's rmse: 1.0109\tvalid_1's rmse: 1.08045\n",
      "[400]\ttraining's rmse: 0.966892\tvalid_1's rmse: 1.07509\n",
      "[600]\ttraining's rmse: 0.937742\tvalid_1's rmse: 1.07454\n",
      "Early stopping, best iteration is:\n",
      "[528]\ttraining's rmse: 0.947468\tvalid_1's rmse: 1.07349\n",
      "Fold 5\n",
      "Training until validation scores don't improve for 200 rounds\n"
     ]
    },
    {
     "name": "stderr",
     "output_type": "stream",
     "text": [
      "/home/wsato/work/pyvenv/lib/python3.8/site-packages/lightgbm/basic.py:1551: UserWarning: Using categorical_feature in Dataset.\n",
      "  warnings.warn('Using categorical_feature in Dataset.')\n",
      "/home/wsato/work/pyvenv/lib/python3.8/site-packages/lightgbm/basic.py:1286: UserWarning: Overriding the parameters from Reference Dataset.\n",
      "  warnings.warn('Overriding the parameters from Reference Dataset.')\n",
      "/home/wsato/work/pyvenv/lib/python3.8/site-packages/lightgbm/basic.py:1098: UserWarning: categorical_column in param dict is overridden.\n",
      "  warnings.warn('{} in param dict is overridden.'.format(cat_alias))\n"
     ]
    },
    {
     "name": "stdout",
     "output_type": "stream",
     "text": [
      "[200]\ttraining's rmse: 1.00681\tvalid_1's rmse: 1.07501\n",
      "[400]\ttraining's rmse: 0.962735\tvalid_1's rmse: 1.0757\n",
      "Early stopping, best iteration is:\n",
      "[270]\ttraining's rmse: 0.989177\tvalid_1's rmse: 1.07442\n",
      "1.0852539648943893\n"
     ]
    }
   ],
   "source": [
    "kf = KFold(n_splits=N_SPLITS,random_state=SEED, shuffle=SHUFFLE)\n",
    "y_oof = np.empty([len(train_df),])\n",
    "y_test = []\n",
    "features = list(train_df.columns)\n",
    "drop_cols = []\n",
    "features = [i for i in features if i not in drop_cols]\n",
    "feature_importances = pd.DataFrame()\n",
    "categorical_features = [\"principal_maker\",\"principal_or_first_maker\"]\n",
    "for fold, (train_idx, valid_idx) in enumerate(kf.split(train_df,y)):\n",
    "    print('Fold {}'.format(fold + 1))\n",
    "    x_train, y_train = train_df.iloc[train_idx][features], y.iloc[train_idx]\n",
    "    x_val, y_val =train_df.iloc[valid_idx][features], y.iloc[valid_idx]\n",
    "\n",
    "    y_pred_valid, y_pred_test, valid_loss, importances, best_iter = train_lgbm(\n",
    "                x_train, y_train, x_val, y_val,test_df[features],\n",
    "                categorical_features=categorical_features,\n",
    "                feature_name=features,\n",
    "                fold_id=fold,\n",
    "                lgb_params=LGBM_PARAMS,\n",
    "                fit_params=LGBM_FIT_PARAMS,\n",
    "                loss_func=calc_loss,\n",
    "                calc_importances=True\n",
    "            )\n",
    "\n",
    "    y_oof[valid_idx] = y_pred_valid\n",
    "    score = calc_loss(y[valid_idx], y_pred_valid)\n",
    "    y_test.append(y_pred_test)\n",
    "    feature_importances = pd.concat([feature_importances, importances], axis=0, sort=False)\n",
    "\n",
    "score = calc_loss(y, y_oof)\n",
    "print(score)"
   ]
  },
  {
   "cell_type": "code",
   "execution_count": 17,
   "metadata": {},
   "outputs": [],
   "source": [
    "y_test_sub =  np.mean(y_test,axis=0)\n",
    "y_test_sub = np.expm1(y_test_sub)\n",
    "sub = pd.read_csv(SUB_PATH)\n",
    "sub[\"likes\"] = y_test_sub\n",
    "sub.loc[sub.likes <= 0,\"likes\"] = 0\n",
    "sub.to_csv(SAVE_TEST_SUB_PATH,index=False)"
   ]
  }
 ],
 "metadata": {
  "kernelspec": {
   "display_name": "pyvenv",
   "language": "python",
   "name": "pyvenv"
  },
  "language_info": {
   "codemirror_mode": {
    "name": "ipython",
    "version": 3
   },
   "file_extension": ".py",
   "mimetype": "text/x-python",
   "name": "python",
   "nbconvert_exporter": "python",
   "pygments_lexer": "ipython3",
   "version": "3.8.5"
  }
 },
 "nbformat": 4,
 "nbformat_minor": 4
}
