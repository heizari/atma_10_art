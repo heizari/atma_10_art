{
 "cells": [
  {
   "cell_type": "markdown",
   "id": "supported-alpha",
   "metadata": {},
   "source": [
    "### とりあえずいろいろ見てみる"
   ]
  },
  {
   "cell_type": "code",
   "execution_count": 15,
   "id": "patient-jacket",
   "metadata": {},
   "outputs": [],
   "source": [
    "import os\n",
    "import pandas as pd\n",
    "import numpy as np\n",
    "import matplotlib.pyplot as plt\n",
    "import seaborn as sns\n",
    "from pandas_profiling import ProfileReport # profile report を作る用\n",
    "from matplotlib_venn import venn2 # venn図を作成する用\n",
    "import glob"
   ]
  },
  {
   "cell_type": "code",
   "execution_count": 2,
   "id": "correct-choice",
   "metadata": {},
   "outputs": [],
   "source": [
    "out_dir = '../output/'\n",
    "data = \"../datasets/\""
   ]
  },
  {
   "cell_type": "code",
   "execution_count": 3,
   "id": "representative-confirmation",
   "metadata": {},
   "outputs": [],
   "source": [
    "train_df = pd.read_csv(data + \"train.csv\")\n",
    "test_df = pd.read_csv(data + \"test.csv\")"
   ]
  },
  {
   "cell_type": "code",
   "execution_count": 4,
   "id": "conservative-third",
   "metadata": {},
   "outputs": [
    {
     "data": {
      "text/html": [
       "<div>\n",
       "<style scoped>\n",
       "    .dataframe tbody tr th:only-of-type {\n",
       "        vertical-align: middle;\n",
       "    }\n",
       "\n",
       "    .dataframe tbody tr th {\n",
       "        vertical-align: top;\n",
       "    }\n",
       "\n",
       "    .dataframe thead th {\n",
       "        text-align: right;\n",
       "    }\n",
       "</style>\n",
       "<table border=\"1\" class=\"dataframe\">\n",
       "  <thead>\n",
       "    <tr style=\"text-align: right;\">\n",
       "      <th></th>\n",
       "      <th>0</th>\n",
       "      <th>1</th>\n",
       "      <th>2</th>\n",
       "      <th>3</th>\n",
       "      <th>4</th>\n",
       "    </tr>\n",
       "  </thead>\n",
       "  <tbody>\n",
       "    <tr>\n",
       "      <th>object_id</th>\n",
       "      <td>0011d6be41612ec9eae3</td>\n",
       "      <td>0012765f7a97ccc3e9e9</td>\n",
       "      <td>0017be8caa87206532cb</td>\n",
       "      <td>00181d86ff1a7b95864e</td>\n",
       "      <td>001c52ae28ec106d9cd5</td>\n",
       "    </tr>\n",
       "    <tr>\n",
       "      <th>art_series_id</th>\n",
       "      <td>93c092ba70beab248f31</td>\n",
       "      <td>95c14fb11c54281ad7e0</td>\n",
       "      <td>4c406890d208fe01f8fb</td>\n",
       "      <td>fa0891535500a4973db2</td>\n",
       "      <td>8065ed5063c5887e677d</td>\n",
       "    </tr>\n",
       "    <tr>\n",
       "      <th>title</th>\n",
       "      <td>The Avenue of Birches</td>\n",
       "      <td>Struik in bloei</td>\n",
       "      <td>Portret van een vrouw</td>\n",
       "      <td>A St Bernard Dog</td>\n",
       "      <td>Woelige zee met zeilschepen</td>\n",
       "    </tr>\n",
       "    <tr>\n",
       "      <th>description</th>\n",
       "      <td>NaN</td>\n",
       "      <td>NaN</td>\n",
       "      <td>Portret van eenvrouw, zittend naast een tafel.</td>\n",
       "      <td>Een sint-bernardshond, staand in een landschap...</td>\n",
       "      <td>Woelige zee met zeilschepen.</td>\n",
       "    </tr>\n",
       "    <tr>\n",
       "      <th>long_title</th>\n",
       "      <td>The Avenue of Birches, Jan Hackaert, 1660 - 1685</td>\n",
       "      <td>Struik in bloei, Richard Tepe (attributed to),...</td>\n",
       "      <td>Portret van een vrouw, Tresling &amp; Comp., 1860 ...</td>\n",
       "      <td>A St Bernard Dog, Bernard te Gempt, c. 1850 - ...</td>\n",
       "      <td>Woelige zee met zeilschepen, anonymous, 1825 -...</td>\n",
       "    </tr>\n",
       "    <tr>\n",
       "      <th>principal_maker</th>\n",
       "      <td>Jan Hackaert</td>\n",
       "      <td>Richard Tepe</td>\n",
       "      <td>Tresling &amp; Comp.</td>\n",
       "      <td>Bernard te Gempt</td>\n",
       "      <td>anonymous</td>\n",
       "    </tr>\n",
       "    <tr>\n",
       "      <th>principal_or_first_maker</th>\n",
       "      <td>Jan Hackaert</td>\n",
       "      <td>Richard Tepe</td>\n",
       "      <td>Tresling &amp; Comp.</td>\n",
       "      <td>Bernard te Gempt</td>\n",
       "      <td>anonymous</td>\n",
       "    </tr>\n",
       "    <tr>\n",
       "      <th>sub_title</th>\n",
       "      <td>h 66.5cm × w 53.7cm × t 2.5cm × d 4.7cm</td>\n",
       "      <td>h 165mm × w 223mm</td>\n",
       "      <td>h 87mm × w 56mm</td>\n",
       "      <td>h 179cm × w 248cm × t 4cm</td>\n",
       "      <td>h 13cm × w 17.5cm × d 0.7cm</td>\n",
       "    </tr>\n",
       "    <tr>\n",
       "      <th>copyright_holder</th>\n",
       "      <td>NaN</td>\n",
       "      <td>erven Richard Tepe</td>\n",
       "      <td>NaN</td>\n",
       "      <td>NaN</td>\n",
       "      <td>NaN</td>\n",
       "    </tr>\n",
       "    <tr>\n",
       "      <th>more_title</th>\n",
       "      <td>The Avenue of Birches</td>\n",
       "      <td>Struik in bloei</td>\n",
       "      <td>Portret van een vrouw</td>\n",
       "      <td>A St Bernard Dog</td>\n",
       "      <td>Woelige zee met zeilschepen</td>\n",
       "    </tr>\n",
       "    <tr>\n",
       "      <th>acquisition_method</th>\n",
       "      <td>purchase</td>\n",
       "      <td>purchase</td>\n",
       "      <td>gift</td>\n",
       "      <td>bequest</td>\n",
       "      <td>unknown</td>\n",
       "    </tr>\n",
       "    <tr>\n",
       "      <th>acquisition_date</th>\n",
       "      <td>1808-01-01T00:00:00</td>\n",
       "      <td>2000-01-01T00:00:00</td>\n",
       "      <td>2007-01-01T00:00:00</td>\n",
       "      <td>1881-01-01T00:00:00</td>\n",
       "      <td>1971-01-01T00:00:00</td>\n",
       "    </tr>\n",
       "    <tr>\n",
       "      <th>acquisition_credit_line</th>\n",
       "      <td>NaN</td>\n",
       "      <td>NaN</td>\n",
       "      <td>Gift of M.M. Boom, Leiden</td>\n",
       "      <td>J. Hilman Bequest, Amsterdam</td>\n",
       "      <td>NaN</td>\n",
       "    </tr>\n",
       "    <tr>\n",
       "      <th>dating_presenting_date</th>\n",
       "      <td>1660 - 1685</td>\n",
       "      <td>c. 1900 - c. 1930</td>\n",
       "      <td>1860 - 1880</td>\n",
       "      <td>c. 1850 - c. 1879</td>\n",
       "      <td>1825 - 1874</td>\n",
       "    </tr>\n",
       "    <tr>\n",
       "      <th>dating_sorting_date</th>\n",
       "      <td>1660.0</td>\n",
       "      <td>1900.0</td>\n",
       "      <td>1860.0</td>\n",
       "      <td>1850.0</td>\n",
       "      <td>1825.0</td>\n",
       "    </tr>\n",
       "    <tr>\n",
       "      <th>dating_period</th>\n",
       "      <td>17</td>\n",
       "      <td>19</td>\n",
       "      <td>19</td>\n",
       "      <td>19</td>\n",
       "      <td>19</td>\n",
       "    </tr>\n",
       "    <tr>\n",
       "      <th>dating_year_early</th>\n",
       "      <td>1660.0</td>\n",
       "      <td>1900.0</td>\n",
       "      <td>1860.0</td>\n",
       "      <td>1850.0</td>\n",
       "      <td>1825.0</td>\n",
       "    </tr>\n",
       "    <tr>\n",
       "      <th>dating_year_late</th>\n",
       "      <td>1685.0</td>\n",
       "      <td>1930.0</td>\n",
       "      <td>1880.0</td>\n",
       "      <td>1879.0</td>\n",
       "      <td>1874.0</td>\n",
       "    </tr>\n",
       "    <tr>\n",
       "      <th>likes</th>\n",
       "      <td>48</td>\n",
       "      <td>2</td>\n",
       "      <td>5</td>\n",
       "      <td>100</td>\n",
       "      <td>7</td>\n",
       "    </tr>\n",
       "  </tbody>\n",
       "</table>\n",
       "</div>"
      ],
      "text/plain": [
       "                                                                         0  \\\n",
       "object_id                                             0011d6be41612ec9eae3   \n",
       "art_series_id                                         93c092ba70beab248f31   \n",
       "title                                                The Avenue of Birches   \n",
       "description                                                            NaN   \n",
       "long_title                The Avenue of Birches, Jan Hackaert, 1660 - 1685   \n",
       "principal_maker                                               Jan Hackaert   \n",
       "principal_or_first_maker                                      Jan Hackaert   \n",
       "sub_title                          h 66.5cm × w 53.7cm × t 2.5cm × d 4.7cm   \n",
       "copyright_holder                                                       NaN   \n",
       "more_title                                           The Avenue of Birches   \n",
       "acquisition_method                                                purchase   \n",
       "acquisition_date                                       1808-01-01T00:00:00   \n",
       "acquisition_credit_line                                                NaN   \n",
       "dating_presenting_date                                         1660 - 1685   \n",
       "dating_sorting_date                                                 1660.0   \n",
       "dating_period                                                           17   \n",
       "dating_year_early                                                   1660.0   \n",
       "dating_year_late                                                    1685.0   \n",
       "likes                                                                   48   \n",
       "\n",
       "                                                                          1  \\\n",
       "object_id                                              0012765f7a97ccc3e9e9   \n",
       "art_series_id                                          95c14fb11c54281ad7e0   \n",
       "title                                                       Struik in bloei   \n",
       "description                                                             NaN   \n",
       "long_title                Struik in bloei, Richard Tepe (attributed to),...   \n",
       "principal_maker                                                Richard Tepe   \n",
       "principal_or_first_maker                                       Richard Tepe   \n",
       "sub_title                                                 h 165mm × w 223mm   \n",
       "copyright_holder                                         erven Richard Tepe   \n",
       "more_title                                                  Struik in bloei   \n",
       "acquisition_method                                                 purchase   \n",
       "acquisition_date                                        2000-01-01T00:00:00   \n",
       "acquisition_credit_line                                                 NaN   \n",
       "dating_presenting_date                                    c. 1900 - c. 1930   \n",
       "dating_sorting_date                                                  1900.0   \n",
       "dating_period                                                            19   \n",
       "dating_year_early                                                    1900.0   \n",
       "dating_year_late                                                     1930.0   \n",
       "likes                                                                     2   \n",
       "\n",
       "                                                                          2  \\\n",
       "object_id                                              0017be8caa87206532cb   \n",
       "art_series_id                                          4c406890d208fe01f8fb   \n",
       "title                                                 Portret van een vrouw   \n",
       "description                  Portret van eenvrouw, zittend naast een tafel.   \n",
       "long_title                Portret van een vrouw, Tresling & Comp., 1860 ...   \n",
       "principal_maker                                            Tresling & Comp.   \n",
       "principal_or_first_maker                                   Tresling & Comp.   \n",
       "sub_title                                                   h 87mm × w 56mm   \n",
       "copyright_holder                                                        NaN   \n",
       "more_title                                            Portret van een vrouw   \n",
       "acquisition_method                                                     gift   \n",
       "acquisition_date                                        2007-01-01T00:00:00   \n",
       "acquisition_credit_line                           Gift of M.M. Boom, Leiden   \n",
       "dating_presenting_date                                          1860 - 1880   \n",
       "dating_sorting_date                                                  1860.0   \n",
       "dating_period                                                            19   \n",
       "dating_year_early                                                    1860.0   \n",
       "dating_year_late                                                     1880.0   \n",
       "likes                                                                     5   \n",
       "\n",
       "                                                                          3  \\\n",
       "object_id                                              00181d86ff1a7b95864e   \n",
       "art_series_id                                          fa0891535500a4973db2   \n",
       "title                                                      A St Bernard Dog   \n",
       "description               Een sint-bernardshond, staand in een landschap...   \n",
       "long_title                A St Bernard Dog, Bernard te Gempt, c. 1850 - ...   \n",
       "principal_maker                                            Bernard te Gempt   \n",
       "principal_or_first_maker                                   Bernard te Gempt   \n",
       "sub_title                                         h 179cm × w 248cm × t 4cm   \n",
       "copyright_holder                                                        NaN   \n",
       "more_title                                                 A St Bernard Dog   \n",
       "acquisition_method                                                  bequest   \n",
       "acquisition_date                                        1881-01-01T00:00:00   \n",
       "acquisition_credit_line                        J. Hilman Bequest, Amsterdam   \n",
       "dating_presenting_date                                    c. 1850 - c. 1879   \n",
       "dating_sorting_date                                                  1850.0   \n",
       "dating_period                                                            19   \n",
       "dating_year_early                                                    1850.0   \n",
       "dating_year_late                                                     1879.0   \n",
       "likes                                                                   100   \n",
       "\n",
       "                                                                          4  \n",
       "object_id                                              001c52ae28ec106d9cd5  \n",
       "art_series_id                                          8065ed5063c5887e677d  \n",
       "title                                           Woelige zee met zeilschepen  \n",
       "description                                    Woelige zee met zeilschepen.  \n",
       "long_title                Woelige zee met zeilschepen, anonymous, 1825 -...  \n",
       "principal_maker                                                   anonymous  \n",
       "principal_or_first_maker                                          anonymous  \n",
       "sub_title                                       h 13cm × w 17.5cm × d 0.7cm  \n",
       "copyright_holder                                                        NaN  \n",
       "more_title                                      Woelige zee met zeilschepen  \n",
       "acquisition_method                                                  unknown  \n",
       "acquisition_date                                        1971-01-01T00:00:00  \n",
       "acquisition_credit_line                                                 NaN  \n",
       "dating_presenting_date                                          1825 - 1874  \n",
       "dating_sorting_date                                                  1825.0  \n",
       "dating_period                                                            19  \n",
       "dating_year_early                                                    1825.0  \n",
       "dating_year_late                                                     1874.0  \n",
       "likes                                                                     7  "
      ]
     },
     "execution_count": 4,
     "metadata": {},
     "output_type": "execute_result"
    }
   ],
   "source": [
    "train_df.head().T"
   ]
  },
  {
   "cell_type": "code",
   "execution_count": 5,
   "id": "driven-ladder",
   "metadata": {},
   "outputs": [
    {
     "data": {
      "text/html": [
       "<div>\n",
       "<style scoped>\n",
       "    .dataframe tbody tr th:only-of-type {\n",
       "        vertical-align: middle;\n",
       "    }\n",
       "\n",
       "    .dataframe tbody tr th {\n",
       "        vertical-align: top;\n",
       "    }\n",
       "\n",
       "    .dataframe thead th {\n",
       "        text-align: right;\n",
       "    }\n",
       "</style>\n",
       "<table border=\"1\" class=\"dataframe\">\n",
       "  <thead>\n",
       "    <tr style=\"text-align: right;\">\n",
       "      <th></th>\n",
       "      <th>0</th>\n",
       "      <th>1</th>\n",
       "      <th>2</th>\n",
       "      <th>3</th>\n",
       "      <th>4</th>\n",
       "    </tr>\n",
       "  </thead>\n",
       "  <tbody>\n",
       "    <tr>\n",
       "      <th>object_id</th>\n",
       "      <td>000405d9a5e3f49fc49d</td>\n",
       "      <td>001020bd00b149970f78</td>\n",
       "      <td>00133be3ff222c9b74b0</td>\n",
       "      <td>001b2b8c9d3aa1534dfe</td>\n",
       "      <td>00220cd4bfa082d2aa20</td>\n",
       "    </tr>\n",
       "    <tr>\n",
       "      <th>art_series_id</th>\n",
       "      <td>a2aabd3cc8859f4260ad</td>\n",
       "      <td>5d6a286cc3ab64c2c043</td>\n",
       "      <td>e2cbc48624f787d2edd2</td>\n",
       "      <td>2435b200cca8b2f3ce3a</td>\n",
       "      <td>aa03c5a95d229166982f</td>\n",
       "    </tr>\n",
       "    <tr>\n",
       "      <th>title</th>\n",
       "      <td>Twee personen voor de Duizendjarige den te Wol...</td>\n",
       "      <td>Portrait of Philipp Ernst, Count of Hohenlohe ...</td>\n",
       "      <td>Alva eist de Tiende Penning op, 1569</td>\n",
       "      <td>Groepen uit \"Zes meisjes en geen man\" ten Gouv...</td>\n",
       "      <td>Christus op een voetstuk met rondom zijn voorv...</td>\n",
       "    </tr>\n",
       "    <tr>\n",
       "      <th>description</th>\n",
       "      <td>NaN</td>\n",
       "      <td>Portret van Philip Ernst (1585-1629), graaf va...</td>\n",
       "      <td>De hertog van Alva eist in een vergadering van...</td>\n",
       "      <td>Scène uit de opvoering getiteld \"Zes meisjes e...</td>\n",
       "      <td>In het midden staat Christus op een voetstuk. ...</td>\n",
       "    </tr>\n",
       "    <tr>\n",
       "      <th>long_title</th>\n",
       "      <td>Twee personen voor de Duizendjarige den te Wol...</td>\n",
       "      <td>Portrait of Philipp Ernst, Count of Hohenlohe ...</td>\n",
       "      <td>Alva eist de Tiende Penning op, 1569, Theodoor...</td>\n",
       "      <td>Groepen uit \"Zes meisjes en geen man\" ten Gouv...</td>\n",
       "      <td>Christus op een voetstuk met rondom zijn voorv...</td>\n",
       "    </tr>\n",
       "    <tr>\n",
       "      <th>principal_maker</th>\n",
       "      <td>Bernardus Bruining</td>\n",
       "      <td>Jan Antonisz van Ravesteyn</td>\n",
       "      <td>Theodoor Koning</td>\n",
       "      <td>Théodore van Lelyveld</td>\n",
       "      <td>Jan Luyken</td>\n",
       "    </tr>\n",
       "    <tr>\n",
       "      <th>principal_or_first_maker</th>\n",
       "      <td>Bernardus Bruining</td>\n",
       "      <td>Jan Antonisz van Ravesteyn</td>\n",
       "      <td>Theodoor Koning</td>\n",
       "      <td>Théodore van Lelyveld</td>\n",
       "      <td>Jan Luyken</td>\n",
       "    </tr>\n",
       "    <tr>\n",
       "      <th>sub_title</th>\n",
       "      <td>h 167mm × w 108mm</td>\n",
       "      <td>h 29.7cm × w 24.1cm</td>\n",
       "      <td>h 270mm × w 215mm</td>\n",
       "      <td>h 116mm × w 159mm</td>\n",
       "      <td>h 108mm × w 184mm</td>\n",
       "    </tr>\n",
       "    <tr>\n",
       "      <th>copyright_holder</th>\n",
       "      <td>NaN</td>\n",
       "      <td>NaN</td>\n",
       "      <td>NaN</td>\n",
       "      <td>erven Théodore van Lelyveld</td>\n",
       "      <td>NaN</td>\n",
       "    </tr>\n",
       "    <tr>\n",
       "      <th>more_title</th>\n",
       "      <td>Twee personen voor de Duizendjarige den te Wol...</td>\n",
       "      <td>Portrait of Philipp Ernst, Count of Hohenlohe ...</td>\n",
       "      <td>Alva eist de Tiende Penning op, 1569 Vordering...</td>\n",
       "      <td>Groepen uit \"Zes meisjes en geen man\" ten Gouv...</td>\n",
       "      <td>Christus op een voetstuk met rondom zijn voorv...</td>\n",
       "    </tr>\n",
       "    <tr>\n",
       "      <th>acquisition_method</th>\n",
       "      <td>transfer</td>\n",
       "      <td>nationalization 1795</td>\n",
       "      <td>gift</td>\n",
       "      <td>purchase</td>\n",
       "      <td>unknown</td>\n",
       "    </tr>\n",
       "    <tr>\n",
       "      <th>acquisition_date</th>\n",
       "      <td>1994-01-01T00:00:00</td>\n",
       "      <td>1798-09-01T00:00:00</td>\n",
       "      <td>2002-01-01T00:00:00</td>\n",
       "      <td>2009-12-01T00:00:00</td>\n",
       "      <td>NaN</td>\n",
       "    </tr>\n",
       "    <tr>\n",
       "      <th>acquisition_credit_line</th>\n",
       "      <td>NaN</td>\n",
       "      <td>NaN</td>\n",
       "      <td>Gift of J.U. Flohil-de Jong, Santpoort-Zuid</td>\n",
       "      <td>NaN</td>\n",
       "      <td>NaN</td>\n",
       "    </tr>\n",
       "    <tr>\n",
       "      <th>dating_presenting_date</th>\n",
       "      <td>1850 - 1900</td>\n",
       "      <td>c. 1609 - c. 1633</td>\n",
       "      <td>1779</td>\n",
       "      <td>1895 - 1898</td>\n",
       "      <td>1700</td>\n",
       "    </tr>\n",
       "    <tr>\n",
       "      <th>dating_sorting_date</th>\n",
       "      <td>1850.0</td>\n",
       "      <td>1609.0</td>\n",
       "      <td>1779.0</td>\n",
       "      <td>1895.0</td>\n",
       "      <td>1700.0</td>\n",
       "    </tr>\n",
       "    <tr>\n",
       "      <th>dating_period</th>\n",
       "      <td>19</td>\n",
       "      <td>17</td>\n",
       "      <td>18</td>\n",
       "      <td>19</td>\n",
       "      <td>17</td>\n",
       "    </tr>\n",
       "    <tr>\n",
       "      <th>dating_year_early</th>\n",
       "      <td>1850.0</td>\n",
       "      <td>1609.0</td>\n",
       "      <td>1779.0</td>\n",
       "      <td>1895.0</td>\n",
       "      <td>1700.0</td>\n",
       "    </tr>\n",
       "    <tr>\n",
       "      <th>dating_year_late</th>\n",
       "      <td>1900.0</td>\n",
       "      <td>1633.0</td>\n",
       "      <td>1779.0</td>\n",
       "      <td>1898.0</td>\n",
       "      <td>1700.0</td>\n",
       "    </tr>\n",
       "  </tbody>\n",
       "</table>\n",
       "</div>"
      ],
      "text/plain": [
       "                                                                          0  \\\n",
       "object_id                                              000405d9a5e3f49fc49d   \n",
       "art_series_id                                          a2aabd3cc8859f4260ad   \n",
       "title                     Twee personen voor de Duizendjarige den te Wol...   \n",
       "description                                                             NaN   \n",
       "long_title                Twee personen voor de Duizendjarige den te Wol...   \n",
       "principal_maker                                          Bernardus Bruining   \n",
       "principal_or_first_maker                                 Bernardus Bruining   \n",
       "sub_title                                                 h 167mm × w 108mm   \n",
       "copyright_holder                                                        NaN   \n",
       "more_title                Twee personen voor de Duizendjarige den te Wol...   \n",
       "acquisition_method                                                 transfer   \n",
       "acquisition_date                                        1994-01-01T00:00:00   \n",
       "acquisition_credit_line                                                 NaN   \n",
       "dating_presenting_date                                          1850 - 1900   \n",
       "dating_sorting_date                                                  1850.0   \n",
       "dating_period                                                            19   \n",
       "dating_year_early                                                    1850.0   \n",
       "dating_year_late                                                     1900.0   \n",
       "\n",
       "                                                                          1  \\\n",
       "object_id                                              001020bd00b149970f78   \n",
       "art_series_id                                          5d6a286cc3ab64c2c043   \n",
       "title                     Portrait of Philipp Ernst, Count of Hohenlohe ...   \n",
       "description               Portret van Philip Ernst (1585-1629), graaf va...   \n",
       "long_title                Portrait of Philipp Ernst, Count of Hohenlohe ...   \n",
       "principal_maker                                  Jan Antonisz van Ravesteyn   \n",
       "principal_or_first_maker                         Jan Antonisz van Ravesteyn   \n",
       "sub_title                                               h 29.7cm × w 24.1cm   \n",
       "copyright_holder                                                        NaN   \n",
       "more_title                Portrait of Philipp Ernst, Count of Hohenlohe ...   \n",
       "acquisition_method                                     nationalization 1795   \n",
       "acquisition_date                                        1798-09-01T00:00:00   \n",
       "acquisition_credit_line                                                 NaN   \n",
       "dating_presenting_date                                    c. 1609 - c. 1633   \n",
       "dating_sorting_date                                                  1609.0   \n",
       "dating_period                                                            17   \n",
       "dating_year_early                                                    1609.0   \n",
       "dating_year_late                                                     1633.0   \n",
       "\n",
       "                                                                          2  \\\n",
       "object_id                                              00133be3ff222c9b74b0   \n",
       "art_series_id                                          e2cbc48624f787d2edd2   \n",
       "title                                  Alva eist de Tiende Penning op, 1569   \n",
       "description               De hertog van Alva eist in een vergadering van...   \n",
       "long_title                Alva eist de Tiende Penning op, 1569, Theodoor...   \n",
       "principal_maker                                             Theodoor Koning   \n",
       "principal_or_first_maker                                    Theodoor Koning   \n",
       "sub_title                                                 h 270mm × w 215mm   \n",
       "copyright_holder                                                        NaN   \n",
       "more_title                Alva eist de Tiende Penning op, 1569 Vordering...   \n",
       "acquisition_method                                                     gift   \n",
       "acquisition_date                                        2002-01-01T00:00:00   \n",
       "acquisition_credit_line         Gift of J.U. Flohil-de Jong, Santpoort-Zuid   \n",
       "dating_presenting_date                                                 1779   \n",
       "dating_sorting_date                                                  1779.0   \n",
       "dating_period                                                            18   \n",
       "dating_year_early                                                    1779.0   \n",
       "dating_year_late                                                     1779.0   \n",
       "\n",
       "                                                                          3  \\\n",
       "object_id                                              001b2b8c9d3aa1534dfe   \n",
       "art_series_id                                          2435b200cca8b2f3ce3a   \n",
       "title                     Groepen uit \"Zes meisjes en geen man\" ten Gouv...   \n",
       "description               Scène uit de opvoering getiteld \"Zes meisjes e...   \n",
       "long_title                Groepen uit \"Zes meisjes en geen man\" ten Gouv...   \n",
       "principal_maker                                       Théodore van Lelyveld   \n",
       "principal_or_first_maker                              Théodore van Lelyveld   \n",
       "sub_title                                                 h 116mm × w 159mm   \n",
       "copyright_holder                                erven Théodore van Lelyveld   \n",
       "more_title                Groepen uit \"Zes meisjes en geen man\" ten Gouv...   \n",
       "acquisition_method                                                 purchase   \n",
       "acquisition_date                                        2009-12-01T00:00:00   \n",
       "acquisition_credit_line                                                 NaN   \n",
       "dating_presenting_date                                          1895 - 1898   \n",
       "dating_sorting_date                                                  1895.0   \n",
       "dating_period                                                            19   \n",
       "dating_year_early                                                    1895.0   \n",
       "dating_year_late                                                     1898.0   \n",
       "\n",
       "                                                                          4  \n",
       "object_id                                              00220cd4bfa082d2aa20  \n",
       "art_series_id                                          aa03c5a95d229166982f  \n",
       "title                     Christus op een voetstuk met rondom zijn voorv...  \n",
       "description               In het midden staat Christus op een voetstuk. ...  \n",
       "long_title                Christus op een voetstuk met rondom zijn voorv...  \n",
       "principal_maker                                                  Jan Luyken  \n",
       "principal_or_first_maker                                         Jan Luyken  \n",
       "sub_title                                                 h 108mm × w 184mm  \n",
       "copyright_holder                                                        NaN  \n",
       "more_title                Christus op een voetstuk met rondom zijn voorv...  \n",
       "acquisition_method                                                  unknown  \n",
       "acquisition_date                                                        NaN  \n",
       "acquisition_credit_line                                                 NaN  \n",
       "dating_presenting_date                                                 1700  \n",
       "dating_sorting_date                                                  1700.0  \n",
       "dating_period                                                            17  \n",
       "dating_year_early                                                    1700.0  \n",
       "dating_year_late                                                     1700.0  "
      ]
     },
     "execution_count": 5,
     "metadata": {},
     "output_type": "execute_result"
    }
   ],
   "source": [
    "test_df.head().T"
   ]
  },
  {
   "cell_type": "code",
   "execution_count": 6,
   "id": "handed-norway",
   "metadata": {},
   "outputs": [],
   "source": [
    "if not os.path.exists(out_dir+ 'train_report.html'):\n",
    "    train_report = ProfileReport(train_df)\n",
    "    path_train_report = 'train_report.html'\n",
    "    # if(not os.path.exists(out_dir + path_train_report)):\n",
    "    train_report.to_file(os.path.join(out_dir, 'train_report.html'))\n",
    "    print(\"create train_report.html\")\n",
    "\n"
   ]
  },
  {
   "cell_type": "code",
   "execution_count": 40,
   "id": "annual-india",
   "metadata": {},
   "outputs": [],
   "source": [
    "def create_report(files, out_dir):\n",
    "    for file in files:\n",
    "        df = pd.read_csv(file)\n",
    "        file = file.split('/')[2].split('.')[0]\n",
    "        path_report = out_dir + file + '_report.html'\n",
    "        if(not os.path.exists(path_report)):\n",
    "            report = ProfileReport(df)\n",
    "            report.to_file(os.path.join(path_report))\n",
    "            print('create ' + path_report)"
   ]
  },
  {
   "cell_type": "code",
   "execution_count": 22,
   "id": "mounted-seattle",
   "metadata": {},
   "outputs": [],
   "source": []
  },
  {
   "cell_type": "code",
   "execution_count": 16,
   "id": "included-machine",
   "metadata": {},
   "outputs": [],
   "source": [
    "datasets = glob.glob(data+'*')"
   ]
  },
  {
   "cell_type": "code",
   "execution_count": 41,
   "id": "endangered-engineering",
   "metadata": {
    "scrolled": true,
    "tags": []
   },
   "outputs": [
    {
     "data": {
      "application/vnd.jupyter.widget-view+json": {
       "model_id": "b0b2fce0a0b94ab99beb2c81925dd1fe",
       "version_major": 2,
       "version_minor": 0
      },
      "text/plain": [
       "Summarize dataset:   0%|          | 0/15 [00:00<?, ?it/s]"
      ]
     },
     "metadata": {},
     "output_type": "display_data"
    },
    {
     "data": {
      "application/vnd.jupyter.widget-view+json": {
       "model_id": "b4e95e859bc34fbe8d09c1b9cc6dcd64",
       "version_major": 2,
       "version_minor": 0
      },
      "text/plain": [
       "Generate report structure:   0%|          | 0/1 [00:00<?, ?it/s]"
      ]
     },
     "metadata": {},
     "output_type": "display_data"
    },
    {
     "data": {
      "application/vnd.jupyter.widget-view+json": {
       "model_id": "f68d16d5c19e403ea960d9ce00e2b979",
       "version_major": 2,
       "version_minor": 0
      },
      "text/plain": [
       "Render HTML:   0%|          | 0/1 [00:00<?, ?it/s]"
      ]
     },
     "metadata": {},
     "output_type": "display_data"
    },
    {
     "data": {
      "application/vnd.jupyter.widget-view+json": {
       "model_id": "be98ace8e855474487402572e58c4fbe",
       "version_major": 2,
       "version_minor": 0
      },
      "text/plain": [
       "Export report to file:   0%|          | 0/1 [00:00<?, ?it/s]"
      ]
     },
     "metadata": {},
     "output_type": "display_data"
    },
    {
     "name": "stdout",
     "output_type": "stream",
     "text": [
      "create ../output/technique_report.html\n"
     ]
    },
    {
     "data": {
      "application/vnd.jupyter.widget-view+json": {
       "model_id": "f58a4ec7aeae4576a8ba60efe9034b45",
       "version_major": 2,
       "version_minor": 0
      },
      "text/plain": [
       "Summarize dataset:   0%|          | 0/16 [00:00<?, ?it/s]"
      ]
     },
     "metadata": {},
     "output_type": "display_data"
    },
    {
     "data": {
      "application/vnd.jupyter.widget-view+json": {
       "model_id": "1d29fc7dc36947fe82fff3dd6e8aa0a9",
       "version_major": 2,
       "version_minor": 0
      },
      "text/plain": [
       "Generate report structure:   0%|          | 0/1 [00:00<?, ?it/s]"
      ]
     },
     "metadata": {},
     "output_type": "display_data"
    },
    {
     "data": {
      "application/vnd.jupyter.widget-view+json": {
       "model_id": "b8af41df1d6641d88f33b57f74740ca0",
       "version_major": 2,
       "version_minor": 0
      },
      "text/plain": [
       "Render HTML:   0%|          | 0/1 [00:00<?, ?it/s]"
      ]
     },
     "metadata": {},
     "output_type": "display_data"
    },
    {
     "data": {
      "application/vnd.jupyter.widget-view+json": {
       "model_id": "1c065ad7048c4a4faa0e266c82df0ac0",
       "version_major": 2,
       "version_minor": 0
      },
      "text/plain": [
       "Export report to file:   0%|          | 0/1 [00:00<?, ?it/s]"
      ]
     },
     "metadata": {},
     "output_type": "display_data"
    },
    {
     "name": "stdout",
     "output_type": "stream",
     "text": [
      "create ../output/color_report.html\n"
     ]
    },
    {
     "data": {
      "application/vnd.jupyter.widget-view+json": {
       "model_id": "5064cddf25b4487686772cfc17d0366d",
       "version_major": 2,
       "version_minor": 0
      },
      "text/plain": [
       "Summarize dataset:   0%|          | 0/19 [00:00<?, ?it/s]"
      ]
     },
     "metadata": {},
     "output_type": "display_data"
    },
    {
     "data": {
      "application/vnd.jupyter.widget-view+json": {
       "model_id": "156615732d9f4f8fbdc87f479ecab01c",
       "version_major": 2,
       "version_minor": 0
      },
      "text/plain": [
       "Generate report structure:   0%|          | 0/1 [00:00<?, ?it/s]"
      ]
     },
     "metadata": {},
     "output_type": "display_data"
    },
    {
     "data": {
      "application/vnd.jupyter.widget-view+json": {
       "model_id": "d52acbea0f6a40878b7db371cee8a294",
       "version_major": 2,
       "version_minor": 0
      },
      "text/plain": [
       "Render HTML:   0%|          | 0/1 [00:00<?, ?it/s]"
      ]
     },
     "metadata": {},
     "output_type": "display_data"
    },
    {
     "data": {
      "application/vnd.jupyter.widget-view+json": {
       "model_id": "27c752fe8ebc4754bd109d13359a5632",
       "version_major": 2,
       "version_minor": 0
      },
      "text/plain": [
       "Export report to file:   0%|          | 0/1 [00:00<?, ?it/s]"
      ]
     },
     "metadata": {},
     "output_type": "display_data"
    },
    {
     "name": "stdout",
     "output_type": "stream",
     "text": [
      "create ../output/maker_report.html\n"
     ]
    },
    {
     "data": {
      "application/vnd.jupyter.widget-view+json": {
       "model_id": "40696537a41f4e41b3fec1c99333712b",
       "version_major": 2,
       "version_minor": 0
      },
      "text/plain": [
       "Summarize dataset:   0%|          | 0/19 [00:00<?, ?it/s]"
      ]
     },
     "metadata": {},
     "output_type": "display_data"
    },
    {
     "data": {
      "application/vnd.jupyter.widget-view+json": {
       "model_id": "33836e3071f6480a9fdd2405eebfea61",
       "version_major": 2,
       "version_minor": 0
      },
      "text/plain": [
       "Generate report structure:   0%|          | 0/1 [00:00<?, ?it/s]"
      ]
     },
     "metadata": {},
     "output_type": "display_data"
    },
    {
     "data": {
      "application/vnd.jupyter.widget-view+json": {
       "model_id": "15c3e530366a477cb7256bb54e7c807c",
       "version_major": 2,
       "version_minor": 0
      },
      "text/plain": [
       "Render HTML:   0%|          | 0/1 [00:00<?, ?it/s]"
      ]
     },
     "metadata": {},
     "output_type": "display_data"
    },
    {
     "data": {
      "application/vnd.jupyter.widget-view+json": {
       "model_id": "c6004629d1684a3dba183122a99910d2",
       "version_major": 2,
       "version_minor": 0
      },
      "text/plain": [
       "Export report to file:   0%|          | 0/1 [00:00<?, ?it/s]"
      ]
     },
     "metadata": {},
     "output_type": "display_data"
    },
    {
     "name": "stdout",
     "output_type": "stream",
     "text": [
      "create ../output/principal_maker_report.html\n"
     ]
    },
    {
     "data": {
      "application/vnd.jupyter.widget-view+json": {
       "model_id": "91062ecda7e34fbfb9e023a38e8d815e",
       "version_major": 2,
       "version_minor": 0
      },
      "text/plain": [
       "Summarize dataset:   0%|          | 0/18 [00:00<?, ?it/s]"
      ]
     },
     "metadata": {},
     "output_type": "display_data"
    },
    {
     "data": {
      "application/vnd.jupyter.widget-view+json": {
       "model_id": "889c8ef9f36c40128040aa5f34c342a3",
       "version_major": 2,
       "version_minor": 0
      },
      "text/plain": [
       "Generate report structure:   0%|          | 0/1 [00:00<?, ?it/s]"
      ]
     },
     "metadata": {},
     "output_type": "display_data"
    },
    {
     "data": {
      "application/vnd.jupyter.widget-view+json": {
       "model_id": "4c542c71c8b44af296d6b233b4b23323",
       "version_major": 2,
       "version_minor": 0
      },
      "text/plain": [
       "Render HTML:   0%|          | 0/1 [00:00<?, ?it/s]"
      ]
     },
     "metadata": {},
     "output_type": "display_data"
    },
    {
     "data": {
      "application/vnd.jupyter.widget-view+json": {
       "model_id": "33659279f49d4c7ba8b4122c50a040e7",
       "version_major": 2,
       "version_minor": 0
      },
      "text/plain": [
       "Export report to file:   0%|          | 0/1 [00:00<?, ?it/s]"
      ]
     },
     "metadata": {},
     "output_type": "display_data"
    },
    {
     "name": "stdout",
     "output_type": "stream",
     "text": [
      "create ../output/palette_report.html\n"
     ]
    },
    {
     "data": {
      "application/vnd.jupyter.widget-view+json": {
       "model_id": "2a196183dadd4215a41e5217d1cee0a7",
       "version_major": 2,
       "version_minor": 0
      },
      "text/plain": [
       "Summarize dataset:   0%|          | 0/15 [00:00<?, ?it/s]"
      ]
     },
     "metadata": {},
     "output_type": "display_data"
    },
    {
     "data": {
      "application/vnd.jupyter.widget-view+json": {
       "model_id": "2b5f5cf255194e13becc1509d59a7841",
       "version_major": 2,
       "version_minor": 0
      },
      "text/plain": [
       "Generate report structure:   0%|          | 0/1 [00:00<?, ?it/s]"
      ]
     },
     "metadata": {},
     "output_type": "display_data"
    },
    {
     "data": {
      "application/vnd.jupyter.widget-view+json": {
       "model_id": "43f3f013ae894e40b85601459de723c1",
       "version_major": 2,
       "version_minor": 0
      },
      "text/plain": [
       "Render HTML:   0%|          | 0/1 [00:00<?, ?it/s]"
      ]
     },
     "metadata": {},
     "output_type": "display_data"
    },
    {
     "data": {
      "application/vnd.jupyter.widget-view+json": {
       "model_id": "7ad645afb5814b3f859ac9d1f9bef82c",
       "version_major": 2,
       "version_minor": 0
      },
      "text/plain": [
       "Export report to file:   0%|          | 0/1 [00:00<?, ?it/s]"
      ]
     },
     "metadata": {},
     "output_type": "display_data"
    },
    {
     "name": "stdout",
     "output_type": "stream",
     "text": [
      "create ../output/material_report.html\n"
     ]
    },
    {
     "data": {
      "application/vnd.jupyter.widget-view+json": {
       "model_id": "4c10053d766c475a8474dba8c8a9c5c2",
       "version_major": 2,
       "version_minor": 0
      },
      "text/plain": [
       "Summarize dataset:   0%|          | 0/15 [00:00<?, ?it/s]"
      ]
     },
     "metadata": {},
     "output_type": "display_data"
    },
    {
     "data": {
      "application/vnd.jupyter.widget-view+json": {
       "model_id": "dd52603e30bc430cb23b772c199f306c",
       "version_major": 2,
       "version_minor": 0
      },
      "text/plain": [
       "Generate report structure:   0%|          | 0/1 [00:00<?, ?it/s]"
      ]
     },
     "metadata": {},
     "output_type": "display_data"
    },
    {
     "data": {
      "application/vnd.jupyter.widget-view+json": {
       "model_id": "f9a2b4315cde4dd28b54447b4bb67ea0",
       "version_major": 2,
       "version_minor": 0
      },
      "text/plain": [
       "Render HTML:   0%|          | 0/1 [00:00<?, ?it/s]"
      ]
     },
     "metadata": {},
     "output_type": "display_data"
    },
    {
     "data": {
      "application/vnd.jupyter.widget-view+json": {
       "model_id": "c4530ef362394c8baf942114e4fe822f",
       "version_major": 2,
       "version_minor": 0
      },
      "text/plain": [
       "Export report to file:   0%|          | 0/1 [00:00<?, ?it/s]"
      ]
     },
     "metadata": {},
     "output_type": "display_data"
    },
    {
     "name": "stdout",
     "output_type": "stream",
     "text": [
      "create ../output/historical_person_report.html\n"
     ]
    },
    {
     "data": {
      "application/vnd.jupyter.widget-view+json": {
       "model_id": "26d07001106342869813356f0483cf01",
       "version_major": 2,
       "version_minor": 0
      },
      "text/plain": [
       "Summarize dataset:   0%|          | 0/15 [00:00<?, ?it/s]"
      ]
     },
     "metadata": {},
     "output_type": "display_data"
    },
    {
     "data": {
      "application/vnd.jupyter.widget-view+json": {
       "model_id": "32e0b6f33ef14e35af097f8dea72e318",
       "version_major": 2,
       "version_minor": 0
      },
      "text/plain": [
       "Generate report structure:   0%|          | 0/1 [00:00<?, ?it/s]"
      ]
     },
     "metadata": {},
     "output_type": "display_data"
    },
    {
     "data": {
      "application/vnd.jupyter.widget-view+json": {
       "model_id": "467b094cd52744159e14990ade4eaa1e",
       "version_major": 2,
       "version_minor": 0
      },
      "text/plain": [
       "Render HTML:   0%|          | 0/1 [00:00<?, ?it/s]"
      ]
     },
     "metadata": {},
     "output_type": "display_data"
    },
    {
     "data": {
      "application/vnd.jupyter.widget-view+json": {
       "model_id": "a8f3d031279b4126863add5cbc3b0016",
       "version_major": 2,
       "version_minor": 0
      },
      "text/plain": [
       "Export report to file:   0%|          | 0/1 [00:00<?, ?it/s]"
      ]
     },
     "metadata": {},
     "output_type": "display_data"
    },
    {
     "name": "stdout",
     "output_type": "stream",
     "text": [
      "create ../output/production_place_report.html\n"
     ]
    },
    {
     "data": {
      "application/vnd.jupyter.widget-view+json": {
       "model_id": "c34758047c8d4583b796a04c9127c47f",
       "version_major": 2,
       "version_minor": 0
      },
      "text/plain": [
       "Summarize dataset:   0%|          | 0/15 [00:00<?, ?it/s]"
      ]
     },
     "metadata": {},
     "output_type": "display_data"
    },
    {
     "data": {
      "application/vnd.jupyter.widget-view+json": {
       "model_id": "19dc403666024be98701e782ae94a2a4",
       "version_major": 2,
       "version_minor": 0
      },
      "text/plain": [
       "Generate report structure:   0%|          | 0/1 [00:00<?, ?it/s]"
      ]
     },
     "metadata": {},
     "output_type": "display_data"
    },
    {
     "data": {
      "application/vnd.jupyter.widget-view+json": {
       "model_id": "06da386d476a4c9ba4c61b0c3421861a",
       "version_major": 2,
       "version_minor": 0
      },
      "text/plain": [
       "Render HTML:   0%|          | 0/1 [00:00<?, ?it/s]"
      ]
     },
     "metadata": {},
     "output_type": "display_data"
    },
    {
     "data": {
      "application/vnd.jupyter.widget-view+json": {
       "model_id": "483449ef8b284d63b7910f1ce85fe4dc",
       "version_major": 2,
       "version_minor": 0
      },
      "text/plain": [
       "Export report to file:   0%|          | 0/1 [00:00<?, ?it/s]"
      ]
     },
     "metadata": {},
     "output_type": "display_data"
    },
    {
     "name": "stdout",
     "output_type": "stream",
     "text": [
      "create ../output/object_collection_report.html\n"
     ]
    },
    {
     "data": {
      "application/vnd.jupyter.widget-view+json": {
       "model_id": "dd3237b51be2491b9bde152c5679be6b",
       "version_major": 2,
       "version_minor": 0
      },
      "text/plain": [
       "Summarize dataset:   0%|          | 0/15 [00:00<?, ?it/s]"
      ]
     },
     "metadata": {},
     "output_type": "display_data"
    },
    {
     "data": {
      "application/vnd.jupyter.widget-view+json": {
       "model_id": "132122b3fb3c4030b7bd7afb45ee0968",
       "version_major": 2,
       "version_minor": 0
      },
      "text/plain": [
       "Generate report structure:   0%|          | 0/1 [00:00<?, ?it/s]"
      ]
     },
     "metadata": {},
     "output_type": "display_data"
    },
    {
     "data": {
      "application/vnd.jupyter.widget-view+json": {
       "model_id": "e25a79188e9345c78b4b608aec2e9d85",
       "version_major": 2,
       "version_minor": 0
      },
      "text/plain": [
       "Render HTML:   0%|          | 0/1 [00:00<?, ?it/s]"
      ]
     },
     "metadata": {},
     "output_type": "display_data"
    },
    {
     "data": {
      "application/vnd.jupyter.widget-view+json": {
       "model_id": "865c650df6c54bb4adbb89d31b99545e",
       "version_major": 2,
       "version_minor": 0
      },
      "text/plain": [
       "Export report to file:   0%|          | 0/1 [00:00<?, ?it/s]"
      ]
     },
     "metadata": {},
     "output_type": "display_data"
    },
    {
     "name": "stdout",
     "output_type": "stream",
     "text": [
      "create ../output/principal_maker_occupation_report.html\n"
     ]
    }
   ],
   "source": [
    "create_report(datasets, out_dir)"
   ]
  },
  {
   "cell_type": "code",
   "execution_count": 26,
   "id": "honey-bunny",
   "metadata": {},
   "outputs": [
    {
     "data": {
      "application/vnd.jupyter.widget-view+json": {
       "model_id": "5608db748be24d979f8bc2140a66b149",
       "version_major": 2,
       "version_minor": 0
      },
      "text/plain": [
       "Summarize dataset:   0%|          | 0/15 [00:00<?, ?it/s]"
      ]
     },
     "metadata": {},
     "output_type": "display_data"
    },
    {
     "data": {
      "application/vnd.jupyter.widget-view+json": {
       "model_id": "0a0ac14860654c2cbe7faf6d21a609ce",
       "version_major": 2,
       "version_minor": 0
      },
      "text/plain": [
       "Generate report structure:   0%|          | 0/1 [00:00<?, ?it/s]"
      ]
     },
     "metadata": {},
     "output_type": "display_data"
    },
    {
     "data": {
      "application/vnd.jupyter.widget-view+json": {
       "model_id": "8d75141516d4422ba555930768ef69dd",
       "version_major": 2,
       "version_minor": 0
      },
      "text/plain": [
       "Render HTML:   0%|          | 0/1 [00:00<?, ?it/s]"
      ]
     },
     "metadata": {},
     "output_type": "display_data"
    },
    {
     "data": {
      "application/vnd.jupyter.widget-view+json": {
       "model_id": "a377e69fdb00412fb87eff2d658f1c7b",
       "version_major": 2,
       "version_minor": 0
      },
      "text/plain": [
       "Export report to file:   0%|          | 0/1 [00:00<?, ?it/s]"
      ]
     },
     "metadata": {},
     "output_type": "display_data"
    },
    {
     "name": "stdout",
     "output_type": "stream",
     "text": [
      "create ../output/technique.csv_report.html\n"
     ]
    }
   ],
   "source": [
    "file = 'technique.csv'\n",
    "technique_df = pd.read_csv(data+'technique.csv')\n",
    "create_report(technique_df, file, out_dir)"
   ]
  },
  {
   "cell_type": "code",
   "execution_count": 29,
   "id": "designed-monte",
   "metadata": {},
   "outputs": [],
   "source": [
    "file = 'object_collection.csv'\n",
    "technique_df = pd.read_csv(data+file)\n",
    "create_report(technique_df, file, out_dir)"
   ]
  },
  {
   "cell_type": "code",
   "execution_count": 29,
   "id": "medieval-airline",
   "metadata": {},
   "outputs": [],
   "source": [
    "file = 'object_collection.csv'\n",
    "technique_df = pd.read_csv(data+file)\n",
    "create_report(technique_df, file, out_dir)"
   ]
  },
  {
   "cell_type": "code",
   "execution_count": 6,
   "id": "phantom-funds",
   "metadata": {},
   "outputs": [],
   "source": [
    "if not os.path.exists(out_dir+ 'train_report.html'):\n",
    "    train_report = ProfileReport(train_df)\n",
    "    path_train_report = 'train_report.html'\n",
    "    # if(not os.path.exists(out_dir + path_train_report)):\n",
    "    train_report.to_file(os.path.join(out_dir, 'train_report.html'))\n",
    "    print(\"create train_report.html\")\n",
    "\n"
   ]
  },
  {
   "cell_type": "code",
   "execution_count": 7,
   "id": "broken-review",
   "metadata": {},
   "outputs": [],
   "source": [
    "path_test_report = 'test_report.html'\n",
    "if not os.path.exists(out_dir+ path_test_report):\n",
    "    test_report = ProfileReport(test_df)\n",
    "    # if(not os.path.exists(out_dir + path_test_report)):\n",
    "    test_report.to_file(os.path.join(out_dir, path_test_report))\n",
    "    print(\"create test_report.html\")\n",
    "\n"
   ]
  },
  {
   "cell_type": "code",
   "execution_count": 9,
   "id": "limiting-grade",
   "metadata": {},
   "outputs": [
    {
     "data": {
      "image/png": "[encoded data removed]",
      "text/plain": [
       "<Figure size 864x1080 with 20 Axes>"
      ]
     },
     "metadata": {
      "needs_background": "light"
     },
     "output_type": "display_data"
    }
   ],
   "source": [
    "columns = test_df.columns\n",
    "n_figs = len(columns)\n",
    "n_cols = 4\n",
    "n_rows = n_figs // n_cols + 1\n",
    "\n",
    "fig, axes = plt.subplots(figsize=(n_cols * 3, n_rows * 3), ncols=n_cols, nrows=n_rows)\n",
    "\n",
    "for c, ax in zip(columns, axes.ravel()):\n",
    "    venn2(\n",
    "        subsets=(set(train_df[c].unique()), set(test_df[c].unique())),\n",
    "        set_labels=('Train', 'Test'),\n",
    "        ax=ax\n",
    "    )\n",
    "    ax.set_title(c)\n",
    "\n",
    "fig.tight_layout()"
   ]
  },
  {
   "cell_type": "code",
   "execution_count": 20,
   "id": "prepared-subscriber",
   "metadata": {},
   "outputs": [],
   "source": [
    "material = pd.read_csv('../datasets/material.csv')"
   ]
  },
  {
   "cell_type": "code",
   "execution_count": 22,
   "id": "relevant-yacht",
   "metadata": {},
   "outputs": [
    {
     "data": {
      "text/html": [
       "<div>\n",
       "<style scoped>\n",
       "    .dataframe tbody tr th:only-of-type {\n",
       "        vertical-align: middle;\n",
       "    }\n",
       "\n",
       "    .dataframe tbody tr th {\n",
       "        vertical-align: top;\n",
       "    }\n",
       "\n",
       "    .dataframe thead th {\n",
       "        text-align: right;\n",
       "    }\n",
       "</style>\n",
       "<table border=\"1\" class=\"dataframe\">\n",
       "  <thead>\n",
       "    <tr style=\"text-align: right;\">\n",
       "      <th></th>\n",
       "      <th>object_id</th>\n",
       "      <th>name</th>\n",
       "    </tr>\n",
       "  </thead>\n",
       "  <tbody>\n",
       "    <tr>\n",
       "      <th>0</th>\n",
       "      <td>000405d9a5e3f49fc49d</td>\n",
       "      <td>photographic paper</td>\n",
       "    </tr>\n",
       "    <tr>\n",
       "      <th>1</th>\n",
       "      <td>000405d9a5e3f49fc49d</td>\n",
       "      <td>cardboard</td>\n",
       "    </tr>\n",
       "    <tr>\n",
       "      <th>2</th>\n",
       "      <td>001020bd00b149970f78</td>\n",
       "      <td>oil paint (paint)</td>\n",
       "    </tr>\n",
       "    <tr>\n",
       "      <th>3</th>\n",
       "      <td>001020bd00b149970f78</td>\n",
       "      <td>panel</td>\n",
       "    </tr>\n",
       "    <tr>\n",
       "      <th>4</th>\n",
       "      <td>0011d6be41612ec9eae3</td>\n",
       "      <td>oil paint (paint)</td>\n",
       "    </tr>\n",
       "  </tbody>\n",
       "</table>\n",
       "</div>"
      ],
      "text/plain": [
       "              object_id                name\n",
       "0  000405d9a5e3f49fc49d  photographic paper\n",
       "1  000405d9a5e3f49fc49d           cardboard\n",
       "2  001020bd00b149970f78   oil paint (paint)\n",
       "3  001020bd00b149970f78               panel\n",
       "4  0011d6be41612ec9eae3   oil paint (paint)"
      ]
     },
     "execution_count": 22,
     "metadata": {},
     "output_type": "execute_result"
    }
   ],
   "source": [
    "material.head()"
   ]
  },
  {
   "cell_type": "code",
   "execution_count": 23,
   "id": "smaller-israeli",
   "metadata": {},
   "outputs": [],
   "source": [
    "cross_material = pd.crosstab(material['object_id'], material['name'])"
   ]
  },
  {
   "cell_type": "code",
   "execution_count": 26,
   "id": "incomplete-developer",
   "metadata": {},
   "outputs": [
    {
     "data": {
      "text/plain": [
       "(23586, 77)"
      ]
     },
     "execution_count": 26,
     "metadata": {},
     "output_type": "execute_result"
    }
   ],
   "source": [
    "cross_material.shape"
   ]
  },
  {
   "cell_type": "code",
   "execution_count": 28,
   "id": "aggressive-chancellor",
   "metadata": {},
   "outputs": [],
   "source": [
    "train_df = train_df.merge(cross_material, on = 'object_id',how='left' )"
   ]
  },
  {
   "cell_type": "code",
   "execution_count": 31,
   "id": "facial-unknown",
   "metadata": {},
   "outputs": [
    {
     "data": {
      "text/html": [
       "<div>\n",
       "<style scoped>\n",
       "    .dataframe tbody tr th:only-of-type {\n",
       "        vertical-align: middle;\n",
       "    }\n",
       "\n",
       "    .dataframe tbody tr th {\n",
       "        vertical-align: top;\n",
       "    }\n",
       "\n",
       "    .dataframe thead th {\n",
       "        text-align: right;\n",
       "    }\n",
       "</style>\n",
       "<table border=\"1\" class=\"dataframe\">\n",
       "  <thead>\n",
       "    <tr style=\"text-align: right;\">\n",
       "      <th></th>\n",
       "      <th>object_id</th>\n",
       "      <th>art_series_id</th>\n",
       "      <th>title</th>\n",
       "      <th>description</th>\n",
       "      <th>long_title</th>\n",
       "      <th>principal_maker</th>\n",
       "      <th>principal_or_first_maker</th>\n",
       "      <th>sub_title</th>\n",
       "      <th>copyright_holder</th>\n",
       "      <th>more_title</th>\n",
       "      <th>...</th>\n",
       "      <th>textile materials</th>\n",
       "      <th>tin (metal)</th>\n",
       "      <th>tin alloy</th>\n",
       "      <th>tracing paper</th>\n",
       "      <th>transparant paper</th>\n",
       "      <th>velvet (fabric weave)</th>\n",
       "      <th>watercolor (paint)</th>\n",
       "      <th>wax</th>\n",
       "      <th>wood (plant material)</th>\n",
       "      <th>wood board</th>\n",
       "    </tr>\n",
       "  </thead>\n",
       "  <tbody>\n",
       "    <tr>\n",
       "      <th>0</th>\n",
       "      <td>0011d6be41612ec9eae3</td>\n",
       "      <td>93c092ba70beab248f31</td>\n",
       "      <td>The Avenue of Birches</td>\n",
       "      <td>NaN</td>\n",
       "      <td>The Avenue of Birches, Jan Hackaert, 1660 - 1685</td>\n",
       "      <td>Jan Hackaert</td>\n",
       "      <td>Jan Hackaert</td>\n",
       "      <td>h 66.5cm × w 53.7cm × t 2.5cm × d 4.7cm</td>\n",
       "      <td>NaN</td>\n",
       "      <td>The Avenue of Birches</td>\n",
       "      <td>...</td>\n",
       "      <td>0.0</td>\n",
       "      <td>0.0</td>\n",
       "      <td>0.0</td>\n",
       "      <td>0.0</td>\n",
       "      <td>0.0</td>\n",
       "      <td>0.0</td>\n",
       "      <td>0.0</td>\n",
       "      <td>0.0</td>\n",
       "      <td>0.0</td>\n",
       "      <td>0.0</td>\n",
       "    </tr>\n",
       "    <tr>\n",
       "      <th>1</th>\n",
       "      <td>0012765f7a97ccc3e9e9</td>\n",
       "      <td>95c14fb11c54281ad7e0</td>\n",
       "      <td>Struik in bloei</td>\n",
       "      <td>NaN</td>\n",
       "      <td>Struik in bloei, Richard Tepe (attributed to),...</td>\n",
       "      <td>Richard Tepe</td>\n",
       "      <td>Richard Tepe</td>\n",
       "      <td>h 165mm × w 223mm</td>\n",
       "      <td>erven Richard Tepe</td>\n",
       "      <td>Struik in bloei</td>\n",
       "      <td>...</td>\n",
       "      <td>0.0</td>\n",
       "      <td>0.0</td>\n",
       "      <td>0.0</td>\n",
       "      <td>0.0</td>\n",
       "      <td>0.0</td>\n",
       "      <td>0.0</td>\n",
       "      <td>0.0</td>\n",
       "      <td>0.0</td>\n",
       "      <td>0.0</td>\n",
       "      <td>0.0</td>\n",
       "    </tr>\n",
       "    <tr>\n",
       "      <th>2</th>\n",
       "      <td>0017be8caa87206532cb</td>\n",
       "      <td>4c406890d208fe01f8fb</td>\n",
       "      <td>Portret van een vrouw</td>\n",
       "      <td>Portret van eenvrouw, zittend naast een tafel.</td>\n",
       "      <td>Portret van een vrouw, Tresling &amp; Comp., 1860 ...</td>\n",
       "      <td>Tresling &amp; Comp.</td>\n",
       "      <td>Tresling &amp; Comp.</td>\n",
       "      <td>h 87mm × w 56mm</td>\n",
       "      <td>NaN</td>\n",
       "      <td>Portret van een vrouw</td>\n",
       "      <td>...</td>\n",
       "      <td>0.0</td>\n",
       "      <td>0.0</td>\n",
       "      <td>0.0</td>\n",
       "      <td>0.0</td>\n",
       "      <td>0.0</td>\n",
       "      <td>0.0</td>\n",
       "      <td>0.0</td>\n",
       "      <td>0.0</td>\n",
       "      <td>0.0</td>\n",
       "      <td>0.0</td>\n",
       "    </tr>\n",
       "    <tr>\n",
       "      <th>3</th>\n",
       "      <td>00181d86ff1a7b95864e</td>\n",
       "      <td>fa0891535500a4973db2</td>\n",
       "      <td>A St Bernard Dog</td>\n",
       "      <td>Een sint-bernardshond, staand in een landschap...</td>\n",
       "      <td>A St Bernard Dog, Bernard te Gempt, c. 1850 - ...</td>\n",
       "      <td>Bernard te Gempt</td>\n",
       "      <td>Bernard te Gempt</td>\n",
       "      <td>h 179cm × w 248cm × t 4cm</td>\n",
       "      <td>NaN</td>\n",
       "      <td>A St Bernard Dog</td>\n",
       "      <td>...</td>\n",
       "      <td>0.0</td>\n",
       "      <td>0.0</td>\n",
       "      <td>0.0</td>\n",
       "      <td>0.0</td>\n",
       "      <td>0.0</td>\n",
       "      <td>0.0</td>\n",
       "      <td>0.0</td>\n",
       "      <td>0.0</td>\n",
       "      <td>0.0</td>\n",
       "      <td>0.0</td>\n",
       "    </tr>\n",
       "    <tr>\n",
       "      <th>4</th>\n",
       "      <td>001c52ae28ec106d9cd5</td>\n",
       "      <td>8065ed5063c5887e677d</td>\n",
       "      <td>Woelige zee met zeilschepen</td>\n",
       "      <td>Woelige zee met zeilschepen.</td>\n",
       "      <td>Woelige zee met zeilschepen, anonymous, 1825 -...</td>\n",
       "      <td>anonymous</td>\n",
       "      <td>anonymous</td>\n",
       "      <td>h 13cm × w 17.5cm × d 0.7cm</td>\n",
       "      <td>NaN</td>\n",
       "      <td>Woelige zee met zeilschepen</td>\n",
       "      <td>...</td>\n",
       "      <td>0.0</td>\n",
       "      <td>0.0</td>\n",
       "      <td>0.0</td>\n",
       "      <td>0.0</td>\n",
       "      <td>0.0</td>\n",
       "      <td>0.0</td>\n",
       "      <td>0.0</td>\n",
       "      <td>0.0</td>\n",
       "      <td>0.0</td>\n",
       "      <td>0.0</td>\n",
       "    </tr>\n",
       "  </tbody>\n",
       "</table>\n",
       "<p>5 rows × 96 columns</p>\n",
       "</div>"
      ],
      "text/plain": [
       "              object_id         art_series_id                        title  \\\n",
       "0  0011d6be41612ec9eae3  93c092ba70beab248f31        The Avenue of Birches   \n",
       "1  0012765f7a97ccc3e9e9  95c14fb11c54281ad7e0              Struik in bloei   \n",
       "2  0017be8caa87206532cb  4c406890d208fe01f8fb        Portret van een vrouw   \n",
       "3  00181d86ff1a7b95864e  fa0891535500a4973db2             A St Bernard Dog   \n",
       "4  001c52ae28ec106d9cd5  8065ed5063c5887e677d  Woelige zee met zeilschepen   \n",
       "\n",
       "                                         description  \\\n",
       "0                                                NaN   \n",
       "1                                                NaN   \n",
       "2     Portret van eenvrouw, zittend naast een tafel.   \n",
       "3  Een sint-bernardshond, staand in een landschap...   \n",
       "4                       Woelige zee met zeilschepen.   \n",
       "\n",
       "                                          long_title   principal_maker  \\\n",
       "0   The Avenue of Birches, Jan Hackaert, 1660 - 1685      Jan Hackaert   \n",
       "1  Struik in bloei, Richard Tepe (attributed to),...      Richard Tepe   \n",
       "2  Portret van een vrouw, Tresling & Comp., 1860 ...  Tresling & Comp.   \n",
       "3  A St Bernard Dog, Bernard te Gempt, c. 1850 - ...  Bernard te Gempt   \n",
       "4  Woelige zee met zeilschepen, anonymous, 1825 -...         anonymous   \n",
       "\n",
       "  principal_or_first_maker                                sub_title  \\\n",
       "0             Jan Hackaert  h 66.5cm × w 53.7cm × t 2.5cm × d 4.7cm   \n",
       "1             Richard Tepe                        h 165mm × w 223mm   \n",
       "2         Tresling & Comp.                          h 87mm × w 56mm   \n",
       "3         Bernard te Gempt                h 179cm × w 248cm × t 4cm   \n",
       "4                anonymous              h 13cm × w 17.5cm × d 0.7cm   \n",
       "\n",
       "     copyright_holder                   more_title  ... textile materials  \\\n",
       "0                 NaN        The Avenue of Birches  ...               0.0   \n",
       "1  erven Richard Tepe              Struik in bloei  ...               0.0   \n",
       "2                 NaN        Portret van een vrouw  ...               0.0   \n",
       "3                 NaN             A St Bernard Dog  ...               0.0   \n",
       "4                 NaN  Woelige zee met zeilschepen  ...               0.0   \n",
       "\n",
       "  tin (metal) tin alloy tracing paper  transparant paper  \\\n",
       "0         0.0       0.0           0.0                0.0   \n",
       "1         0.0       0.0           0.0                0.0   \n",
       "2         0.0       0.0           0.0                0.0   \n",
       "3         0.0       0.0           0.0                0.0   \n",
       "4         0.0       0.0           0.0                0.0   \n",
       "\n",
       "   velvet (fabric weave)  watercolor (paint)  wax  wood (plant material)  \\\n",
       "0                    0.0                 0.0  0.0                    0.0   \n",
       "1                    0.0                 0.0  0.0                    0.0   \n",
       "2                    0.0                 0.0  0.0                    0.0   \n",
       "3                    0.0                 0.0  0.0                    0.0   \n",
       "4                    0.0                 0.0  0.0                    0.0   \n",
       "\n",
       "   wood board  \n",
       "0         0.0  \n",
       "1         0.0  \n",
       "2         0.0  \n",
       "3         0.0  \n",
       "4         0.0  \n",
       "\n",
       "[5 rows x 96 columns]"
      ]
     },
     "execution_count": 31,
     "metadata": {},
     "output_type": "execute_result"
    }
   ],
   "source": [
    "train_df.head()"
   ]
  }
 ],
 "metadata": {
  "kernelspec": {
   "display_name": "pyvenv",
   "language": "python",
   "name": "pyvenv"
  },
  "language_info": {
   "codemirror_mode": {
    "name": "ipython",
    "version": 3
   },
   "file_extension": ".py",
   "mimetype": "text/x-python",
   "name": "python",
   "nbconvert_exporter": "python",
   "pygments_lexer": "ipython3",
   "version": "3.8.5"
  }
 },
 "nbformat": 4,
 "nbformat_minor": 5
}
