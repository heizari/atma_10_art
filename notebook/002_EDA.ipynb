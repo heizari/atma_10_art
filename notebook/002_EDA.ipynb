{
 "cells": [
  {
   "cell_type": "code",
   "execution_count": 32,
   "id": "current-lambda",
   "metadata": {},
   "outputs": [],
   "source": [
    "import os\n",
    "import pandas as pd\n",
    "import numpy as np\n",
    "import matplotlib.pyplot as plt\n",
    "import seaborn as sns"
   ]
  },
  {
   "cell_type": "code",
   "execution_count": 33,
   "id": "anonymous-sociology",
   "metadata": {},
   "outputs": [],
   "source": [
    "out_dir = '../output/'\n",
    "data = \"../datasets/\""
   ]
  },
  {
   "cell_type": "code",
   "execution_count": 34,
   "id": "gentle-story",
   "metadata": {},
   "outputs": [],
   "source": [
    "train_df = pd.read_csv(data + \"train.csv\")\n",
    "test_df = pd.read_csv(data + \"test.csv\")"
   ]
  },
  {
   "cell_type": "code",
   "execution_count": null,
   "id": "spectacular-calculation",
   "metadata": {},
   "outputs": [],
   "source": []
  },
  {
   "cell_type": "code",
   "execution_count": 4,
   "id": "handy-cartoon",
   "metadata": {},
   "outputs": [],
   "source": [
    "def merge_cross_tab(dataset, files):\n",
    "    for file in files:\n",
    "        file_df = pd.read_csv('../datasets/' + file +'.csv')\n",
    "        file_cross = pd.crosstab()"
   ]
  },
  {
   "cell_type": "code",
   "execution_count": 5,
   "id": "beginning-disclaimer",
   "metadata": {},
   "outputs": [
    {
     "name": "stdout",
     "output_type": "stream",
     "text": [
      "material\n",
      "color\n"
     ]
    }
   ],
   "source": [
    "train_df_merged = merge_cross_tab(train_df, ['material', 'color'])"
   ]
  },
  {
   "cell_type": "code",
   "execution_count": 38,
   "id": "forbidden-fields",
   "metadata": {},
   "outputs": [
    {
     "data": {
      "text/plain": [
       "81.9159321470148"
      ]
     },
     "execution_count": 38,
     "metadata": {},
     "output_type": "execute_result"
    }
   ],
   "source": [
    "train_df['likes'].mean()"
   ]
  },
  {
   "cell_type": "code",
   "execution_count": 7,
   "id": "modified-share",
   "metadata": {},
   "outputs": [],
   "source": [
    "color = pd.read_csv('../datasets/color.csv')"
   ]
  },
  {
   "cell_type": "code",
   "execution_count": 12,
   "id": "intensive-consistency",
   "metadata": {},
   "outputs": [
    {
     "data": {
      "text/html": [
       "<div>\n",
       "<style scoped>\n",
       "    .dataframe tbody tr th:only-of-type {\n",
       "        vertical-align: middle;\n",
       "    }\n",
       "\n",
       "    .dataframe tbody tr th {\n",
       "        vertical-align: top;\n",
       "    }\n",
       "\n",
       "    .dataframe thead th {\n",
       "        text-align: right;\n",
       "    }\n",
       "</style>\n",
       "<table border=\"1\" class=\"dataframe\">\n",
       "  <thead>\n",
       "    <tr style=\"text-align: right;\">\n",
       "      <th></th>\n",
       "      <th>object_id</th>\n",
       "      <th>percentage</th>\n",
       "      <th>hex</th>\n",
       "    </tr>\n",
       "  </thead>\n",
       "  <tbody>\n",
       "    <tr>\n",
       "      <th>0</th>\n",
       "      <td>001020bd00b149970f78</td>\n",
       "      <td>0</td>\n",
       "      <td>#C7C7B6</td>\n",
       "    </tr>\n",
       "    <tr>\n",
       "      <th>1</th>\n",
       "      <td>001020bd00b149970f78</td>\n",
       "      <td>9</td>\n",
       "      <td>#5E5333</td>\n",
       "    </tr>\n",
       "    <tr>\n",
       "      <th>2</th>\n",
       "      <td>001020bd00b149970f78</td>\n",
       "      <td>14</td>\n",
       "      <td>#3E321B</td>\n",
       "    </tr>\n",
       "    <tr>\n",
       "      <th>3</th>\n",
       "      <td>001020bd00b149970f78</td>\n",
       "      <td>3</td>\n",
       "      <td>#B8AF84</td>\n",
       "    </tr>\n",
       "    <tr>\n",
       "      <th>4</th>\n",
       "      <td>001020bd00b149970f78</td>\n",
       "      <td>62</td>\n",
       "      <td>#15120C</td>\n",
       "    </tr>\n",
       "  </tbody>\n",
       "</table>\n",
       "</div>"
      ],
      "text/plain": [
       "              object_id  percentage       hex\n",
       "0  001020bd00b149970f78           0   #C7C7B6\n",
       "1  001020bd00b149970f78           9   #5E5333\n",
       "2  001020bd00b149970f78          14   #3E321B\n",
       "3  001020bd00b149970f78           3   #B8AF84\n",
       "4  001020bd00b149970f78          62   #15120C"
      ]
     },
     "execution_count": 12,
     "metadata": {},
     "output_type": "execute_result"
    }
   ],
   "source": [
    "color.head()"
   ]
  },
  {
   "cell_type": "code",
   "execution_count": 24,
   "id": "figured-saturn",
   "metadata": {},
   "outputs": [
    {
     "data": {
      "text/plain": [
       "'object_id  == 001020bd00b149970f78'"
      ]
     },
     "execution_count": 24,
     "metadata": {},
     "output_type": "execute_result"
    }
   ],
   "source": [
    "'object_id  == ' + "
   ]
  },
  {
   "cell_type": "code",
   "execution_count": 31,
   "id": "super-omaha",
   "metadata": {},
   "outputs": [
    {
     "data": {
      "text/plain": [
       "98"
      ]
     },
     "execution_count": 31,
     "metadata": {},
     "output_type": "execute_result"
    }
   ],
   "source": [
    "color.query('object_id  ==  \"' + color['object_id'][0] + '\"')['percentage'].sum()"
   ]
  },
  {
   "cell_type": "code",
   "execution_count": 23,
   "id": "illegal-makeup",
   "metadata": {},
   "outputs": [],
   "source": [
    "cross_material = pd.crosstab(material['object_id'], material['name'])"
   ]
  },
  {
   "cell_type": "code",
   "execution_count": 26,
   "id": "funded-story",
   "metadata": {},
   "outputs": [
    {
     "data": {
      "text/plain": [
       "(23586, 77)"
      ]
     },
     "execution_count": 26,
     "metadata": {},
     "output_type": "execute_result"
    }
   ],
   "source": [
    "cross_material.shape"
   ]
  },
  {
   "cell_type": "code",
   "execution_count": 28,
   "id": "standard-straight",
   "metadata": {},
   "outputs": [],
   "source": [
    "train_df = train_df.merge(cross_material, on = 'object_id',how='left' )"
   ]
  },
  {
   "cell_type": "code",
   "execution_count": 31,
   "id": "fifth-tender",
   "metadata": {},
   "outputs": [
    {
     "data": {
      "text/html": [
       "<div>\n",
       "<style scoped>\n",
       "    .dataframe tbody tr th:only-of-type {\n",
       "        vertical-align: middle;\n",
       "    }\n",
       "\n",
       "    .dataframe tbody tr th {\n",
       "        vertical-align: top;\n",
       "    }\n",
       "\n",
       "    .dataframe thead th {\n",
       "        text-align: right;\n",
       "    }\n",
       "</style>\n",
       "<table border=\"1\" class=\"dataframe\">\n",
       "  <thead>\n",
       "    <tr style=\"text-align: right;\">\n",
       "      <th></th>\n",
       "      <th>object_id</th>\n",
       "      <th>art_series_id</th>\n",
       "      <th>title</th>\n",
       "      <th>description</th>\n",
       "      <th>long_title</th>\n",
       "      <th>principal_maker</th>\n",
       "      <th>principal_or_first_maker</th>\n",
       "      <th>sub_title</th>\n",
       "      <th>copyright_holder</th>\n",
       "      <th>more_title</th>\n",
       "      <th>...</th>\n",
       "      <th>textile materials</th>\n",
       "      <th>tin (metal)</th>\n",
       "      <th>tin alloy</th>\n",
       "      <th>tracing paper</th>\n",
       "      <th>transparant paper</th>\n",
       "      <th>velvet (fabric weave)</th>\n",
       "      <th>watercolor (paint)</th>\n",
       "      <th>wax</th>\n",
       "      <th>wood (plant material)</th>\n",
       "      <th>wood board</th>\n",
       "    </tr>\n",
       "  </thead>\n",
       "  <tbody>\n",
       "    <tr>\n",
       "      <th>0</th>\n",
       "      <td>0011d6be41612ec9eae3</td>\n",
       "      <td>93c092ba70beab248f31</td>\n",
       "      <td>The Avenue of Birches</td>\n",
       "      <td>NaN</td>\n",
       "      <td>The Avenue of Birches, Jan Hackaert, 1660 - 1685</td>\n",
       "      <td>Jan Hackaert</td>\n",
       "      <td>Jan Hackaert</td>\n",
       "      <td>h 66.5cm × w 53.7cm × t 2.5cm × d 4.7cm</td>\n",
       "      <td>NaN</td>\n",
       "      <td>The Avenue of Birches</td>\n",
       "      <td>...</td>\n",
       "      <td>0.0</td>\n",
       "      <td>0.0</td>\n",
       "      <td>0.0</td>\n",
       "      <td>0.0</td>\n",
       "      <td>0.0</td>\n",
       "      <td>0.0</td>\n",
       "      <td>0.0</td>\n",
       "      <td>0.0</td>\n",
       "      <td>0.0</td>\n",
       "      <td>0.0</td>\n",
       "    </tr>\n",
       "    <tr>\n",
       "      <th>1</th>\n",
       "      <td>0012765f7a97ccc3e9e9</td>\n",
       "      <td>95c14fb11c54281ad7e0</td>\n",
       "      <td>Struik in bloei</td>\n",
       "      <td>NaN</td>\n",
       "      <td>Struik in bloei, Richard Tepe (attributed to),...</td>\n",
       "      <td>Richard Tepe</td>\n",
       "      <td>Richard Tepe</td>\n",
       "      <td>h 165mm × w 223mm</td>\n",
       "      <td>erven Richard Tepe</td>\n",
       "      <td>Struik in bloei</td>\n",
       "      <td>...</td>\n",
       "      <td>0.0</td>\n",
       "      <td>0.0</td>\n",
       "      <td>0.0</td>\n",
       "      <td>0.0</td>\n",
       "      <td>0.0</td>\n",
       "      <td>0.0</td>\n",
       "      <td>0.0</td>\n",
       "      <td>0.0</td>\n",
       "      <td>0.0</td>\n",
       "      <td>0.0</td>\n",
       "    </tr>\n",
       "    <tr>\n",
       "      <th>2</th>\n",
       "      <td>0017be8caa87206532cb</td>\n",
       "      <td>4c406890d208fe01f8fb</td>\n",
       "      <td>Portret van een vrouw</td>\n",
       "      <td>Portret van eenvrouw, zittend naast een tafel.</td>\n",
       "      <td>Portret van een vrouw, Tresling &amp; Comp., 1860 ...</td>\n",
       "      <td>Tresling &amp; Comp.</td>\n",
       "      <td>Tresling &amp; Comp.</td>\n",
       "      <td>h 87mm × w 56mm</td>\n",
       "      <td>NaN</td>\n",
       "      <td>Portret van een vrouw</td>\n",
       "      <td>...</td>\n",
       "      <td>0.0</td>\n",
       "      <td>0.0</td>\n",
       "      <td>0.0</td>\n",
       "      <td>0.0</td>\n",
       "      <td>0.0</td>\n",
       "      <td>0.0</td>\n",
       "      <td>0.0</td>\n",
       "      <td>0.0</td>\n",
       "      <td>0.0</td>\n",
       "      <td>0.0</td>\n",
       "    </tr>\n",
       "    <tr>\n",
       "      <th>3</th>\n",
       "      <td>00181d86ff1a7b95864e</td>\n",
       "      <td>fa0891535500a4973db2</td>\n",
       "      <td>A St Bernard Dog</td>\n",
       "      <td>Een sint-bernardshond, staand in een landschap...</td>\n",
       "      <td>A St Bernard Dog, Bernard te Gempt, c. 1850 - ...</td>\n",
       "      <td>Bernard te Gempt</td>\n",
       "      <td>Bernard te Gempt</td>\n",
       "      <td>h 179cm × w 248cm × t 4cm</td>\n",
       "      <td>NaN</td>\n",
       "      <td>A St Bernard Dog</td>\n",
       "      <td>...</td>\n",
       "      <td>0.0</td>\n",
       "      <td>0.0</td>\n",
       "      <td>0.0</td>\n",
       "      <td>0.0</td>\n",
       "      <td>0.0</td>\n",
       "      <td>0.0</td>\n",
       "      <td>0.0</td>\n",
       "      <td>0.0</td>\n",
       "      <td>0.0</td>\n",
       "      <td>0.0</td>\n",
       "    </tr>\n",
       "    <tr>\n",
       "      <th>4</th>\n",
       "      <td>001c52ae28ec106d9cd5</td>\n",
       "      <td>8065ed5063c5887e677d</td>\n",
       "      <td>Woelige zee met zeilschepen</td>\n",
       "      <td>Woelige zee met zeilschepen.</td>\n",
       "      <td>Woelige zee met zeilschepen, anonymous, 1825 -...</td>\n",
       "      <td>anonymous</td>\n",
       "      <td>anonymous</td>\n",
       "      <td>h 13cm × w 17.5cm × d 0.7cm</td>\n",
       "      <td>NaN</td>\n",
       "      <td>Woelige zee met zeilschepen</td>\n",
       "      <td>...</td>\n",
       "      <td>0.0</td>\n",
       "      <td>0.0</td>\n",
       "      <td>0.0</td>\n",
       "      <td>0.0</td>\n",
       "      <td>0.0</td>\n",
       "      <td>0.0</td>\n",
       "      <td>0.0</td>\n",
       "      <td>0.0</td>\n",
       "      <td>0.0</td>\n",
       "      <td>0.0</td>\n",
       "    </tr>\n",
       "  </tbody>\n",
       "</table>\n",
       "<p>5 rows × 96 columns</p>\n",
       "</div>"
      ],
      "text/plain": [
       "              object_id         art_series_id                        title  \\\n",
       "0  0011d6be41612ec9eae3  93c092ba70beab248f31        The Avenue of Birches   \n",
       "1  0012765f7a97ccc3e9e9  95c14fb11c54281ad7e0              Struik in bloei   \n",
       "2  0017be8caa87206532cb  4c406890d208fe01f8fb        Portret van een vrouw   \n",
       "3  00181d86ff1a7b95864e  fa0891535500a4973db2             A St Bernard Dog   \n",
       "4  001c52ae28ec106d9cd5  8065ed5063c5887e677d  Woelige zee met zeilschepen   \n",
       "\n",
       "                                         description  \\\n",
       "0                                                NaN   \n",
       "1                                                NaN   \n",
       "2     Portret van eenvrouw, zittend naast een tafel.   \n",
       "3  Een sint-bernardshond, staand in een landschap...   \n",
       "4                       Woelige zee met zeilschepen.   \n",
       "\n",
       "                                          long_title   principal_maker  \\\n",
       "0   The Avenue of Birches, Jan Hackaert, 1660 - 1685      Jan Hackaert   \n",
       "1  Struik in bloei, Richard Tepe (attributed to),...      Richard Tepe   \n",
       "2  Portret van een vrouw, Tresling & Comp., 1860 ...  Tresling & Comp.   \n",
       "3  A St Bernard Dog, Bernard te Gempt, c. 1850 - ...  Bernard te Gempt   \n",
       "4  Woelige zee met zeilschepen, anonymous, 1825 -...         anonymous   \n",
       "\n",
       "  principal_or_first_maker                                sub_title  \\\n",
       "0             Jan Hackaert  h 66.5cm × w 53.7cm × t 2.5cm × d 4.7cm   \n",
       "1             Richard Tepe                        h 165mm × w 223mm   \n",
       "2         Tresling & Comp.                          h 87mm × w 56mm   \n",
       "3         Bernard te Gempt                h 179cm × w 248cm × t 4cm   \n",
       "4                anonymous              h 13cm × w 17.5cm × d 0.7cm   \n",
       "\n",
       "     copyright_holder                   more_title  ... textile materials  \\\n",
       "0                 NaN        The Avenue of Birches  ...               0.0   \n",
       "1  erven Richard Tepe              Struik in bloei  ...               0.0   \n",
       "2                 NaN        Portret van een vrouw  ...               0.0   \n",
       "3                 NaN             A St Bernard Dog  ...               0.0   \n",
       "4                 NaN  Woelige zee met zeilschepen  ...               0.0   \n",
       "\n",
       "  tin (metal) tin alloy tracing paper  transparant paper  \\\n",
       "0         0.0       0.0           0.0                0.0   \n",
       "1         0.0       0.0           0.0                0.0   \n",
       "2         0.0       0.0           0.0                0.0   \n",
       "3         0.0       0.0           0.0                0.0   \n",
       "4         0.0       0.0           0.0                0.0   \n",
       "\n",
       "   velvet (fabric weave)  watercolor (paint)  wax  wood (plant material)  \\\n",
       "0                    0.0                 0.0  0.0                    0.0   \n",
       "1                    0.0                 0.0  0.0                    0.0   \n",
       "2                    0.0                 0.0  0.0                    0.0   \n",
       "3                    0.0                 0.0  0.0                    0.0   \n",
       "4                    0.0                 0.0  0.0                    0.0   \n",
       "\n",
       "   wood board  \n",
       "0         0.0  \n",
       "1         0.0  \n",
       "2         0.0  \n",
       "3         0.0  \n",
       "4         0.0  \n",
       "\n",
       "[5 rows x 96 columns]"
      ]
     },
     "execution_count": 31,
     "metadata": {},
     "output_type": "execute_result"
    }
   ],
   "source": [
    "train_df.head()"
   ]
  }
 ],
 "metadata": {
  "kernelspec": {
   "display_name": "pyvenv",
   "language": "python",
   "name": "pyvenv"
  },
  "language_info": {
   "codemirror_mode": {
    "name": "ipython",
    "version": 3
   },
   "file_extension": ".py",
   "mimetype": "text/x-python",
   "name": "python",
   "nbconvert_exporter": "python",
   "pygments_lexer": "ipython3",
   "version": "3.8.5"
  }
 },
 "nbformat": 4,
 "nbformat_minor": 5
}
